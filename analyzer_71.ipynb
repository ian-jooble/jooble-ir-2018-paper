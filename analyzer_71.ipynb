{
 "cells": [
  {
   "cell_type": "code",
   "execution_count": null,
   "metadata": {
    "ExecuteTime": {
     "start_time": "2018-11-14T16:29:36.139Z"
    }
   },
   "outputs": [
    {
     "name": "stderr",
     "output_type": "stream",
     "text": [
      " * Running on http://0.0.0.0:13571/ (Press CTRL+C to quit)\n",
      "127.0.0.1 - - [15/Nov/2018 18:52:32] \"POST /analyze HTTP/1.1\" 200 -\n",
      "127.0.0.1 - - [15/Nov/2018 18:52:49] \"POST /analyze HTTP/1.1\" 200 -\n"
     ]
    }
   ],
   "source": [
    "from flask import Flask\n",
    "from flask import request\n",
    "import json\n",
    "import requests\n",
    "import re\n",
    "\n",
    "\n",
    "app = Flask(__name__)\n",
    "\n",
    "regex = re.compile('[!,/\\().%]')\n",
    "\n",
    "@app.route(\"/analyze\", methods=['GET', 'POST'])\n",
    "def analyze():\n",
    "    \"\"\"\n",
    "    Analyzer provide stemm, tokenize and lang detect workflow\n",
    "    \n",
    "    Receive: list of lists of textes\n",
    "    Return: list of lists of stemmed tokens for each document + languages\n",
    "    \"\"\"\n",
    "    if request.method=='POST':\n",
    "        data = request.json\n",
    "        \n",
    "        textes = data[\"textes\"]\n",
    "        textes = [regex.sub(' ',text) for text in textes]\n",
    "        r_lang = requests.post('http://127.0.0.1:13567/lang_detect', json={'textes' : textes}).text\n",
    "        langs = json.loads(r_lang)['langs']\n",
    "        \n",
    "        r_stemmed = requests.post('http://127.0.0.1:13566/stemmer', json={'textes' : textes, 'langs': langs}).text\n",
    "        stemmed_docs = json.loads(r_stemmed)['stemmed']\n",
    "\n",
    "        return json.dumps({'status':'ok',\n",
    "                           'langs': langs,\n",
    "                           'stemmed_docs': stemmed_docs})\n",
    "    else:\n",
    "        return \"post json {textes: 'your text here'}\"\n",
    "    \n",
    "\n",
    "if __name__ == \"__main__\":\n",
    "    app.run(host='0.0.0.0', port=13571)"
   ]
  }
 ],
 "metadata": {
  "kernelspec": {
   "display_name": "Python 3",
   "language": "python",
   "name": "python3"
  },
  "language_info": {
   "codemirror_mode": {
    "name": "ipython",
    "version": 3
   },
   "file_extension": ".py",
   "mimetype": "text/x-python",
   "name": "python",
   "nbconvert_exporter": "python",
   "pygments_lexer": "ipython3",
   "version": "3.6.3"
  },
  "varInspector": {
   "cols": {
    "lenName": 16,
    "lenType": 16,
    "lenVar": 40
   },
   "kernels_config": {
    "python": {
     "delete_cmd_postfix": "",
     "delete_cmd_prefix": "del ",
     "library": "var_list.py",
     "varRefreshCmd": "print(var_dic_list())"
    },
    "r": {
     "delete_cmd_postfix": ") ",
     "delete_cmd_prefix": "rm(",
     "library": "var_list.r",
     "varRefreshCmd": "cat(var_dic_list()) "
    }
   },
   "types_to_exclude": [
    "module",
    "function",
    "builtin_function_or_method",
    "instance",
    "_Feature"
   ],
   "window_display": false
  }
 },
 "nbformat": 4,
 "nbformat_minor": 2
}
