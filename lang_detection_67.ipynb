{
 "cells": [
  {
   "cell_type": "code",
   "execution_count": null,
   "metadata": {
    "ExecuteTime": {
     "start_time": "2018-11-14T16:21:19.272Z"
    }
   },
   "outputs": [
    {
     "name": "stdout",
     "output_type": "stream",
     "text": [
      " * Serving Flask app \"__main__\" (lazy loading)\n",
      " * Environment: production\n",
      "   WARNING: Do not use the development server in a production environment.\n",
      "   Use a production WSGI server instead.\n",
      " * Debug mode: off\n"
     ]
    },
    {
     "name": "stderr",
     "output_type": "stream",
     "text": [
      " * Running on http://0.0.0.0:13567/ (Press CTRL+C to quit)\n",
      "127.0.0.1 - - [14/Nov/2018 18:21:52] \"\u001b[37mPOST /lang_detect HTTP/1.1\u001b[0m\" 200 -\n",
      "127.0.0.1 - - [14/Nov/2018 18:24:25] \"\u001b[37mPOST /lang_detect HTTP/1.1\u001b[0m\" 200 -\n",
      "127.0.0.1 - - [14/Nov/2018 18:27:30] \"\u001b[37mPOST /lang_detect HTTP/1.1\u001b[0m\" 200 -\n",
      "127.0.0.1 - - [14/Nov/2018 18:30:09] \"\u001b[37mPOST /lang_detect HTTP/1.1\u001b[0m\" 200 -\n",
      "127.0.0.1 - - [14/Nov/2018 18:30:13] \"\u001b[37mPOST /lang_detect HTTP/1.1\u001b[0m\" 200 -\n",
      "127.0.0.1 - - [14/Nov/2018 18:30:16] \"\u001b[37mPOST /lang_detect HTTP/1.1\u001b[0m\" 200 -\n",
      "127.0.0.1 - - [14/Nov/2018 18:30:18] \"\u001b[37mPOST /lang_detect HTTP/1.1\u001b[0m\" 200 -\n",
      "127.0.0.1 - - [14/Nov/2018 18:30:19] \"\u001b[37mPOST /lang_detect HTTP/1.1\u001b[0m\" 200 -\n",
      "127.0.0.1 - - [14/Nov/2018 18:30:30] \"\u001b[37mPOST /lang_detect HTTP/1.1\u001b[0m\" 200 -\n",
      "127.0.0.1 - - [14/Nov/2018 18:30:54] \"\u001b[37mPOST /lang_detect HTTP/1.1\u001b[0m\" 200 -\n",
      "127.0.0.1 - - [14/Nov/2018 18:30:56] \"\u001b[37mPOST /lang_detect HTTP/1.1\u001b[0m\" 200 -\n"
     ]
    }
   ],
   "source": [
    "from flask import Flask\n",
    "from flask import request\n",
    "import json\n",
    "from langdetect import detect\n",
    "\n",
    "app = Flask(__name__)\n",
    "\n",
    "\n",
    "@app.route(\"/lang_detect\", methods=['GET', 'POST'])\n",
    "def lang_detect():\n",
    "    \"\"\"\n",
    "    Receive: list of strs\n",
    "    Returns: list of detected languages (strs code like uk, en etc.)\n",
    "    \"\"\"\n",
    "    if request.method=='POST':\n",
    "        data = request.json\n",
    "        textes = data[\"textes\"]\n",
    "        langs = []\n",
    "        for text in textes:\n",
    "            try:\n",
    "                langs.append(detect(text))\n",
    "            except:\n",
    "                langs.append('None')\n",
    "        # may use probabilities of language for logging\n",
    "\n",
    "        return json.dumps({'status':'ok',\n",
    "                           'langs': langs})\n",
    "    else:\n",
    "        return \"make post {'textes': list of strs}\"\n",
    "    \n",
    "\n",
    "if __name__ == \"__main__\":\n",
    "    app.run(host='0.0.0.0', port=13567)"
   ]
  }
 ],
 "metadata": {
  "kernelspec": {
   "display_name": "Python 3",
   "language": "python",
   "name": "python3"
  },
  "language_info": {
   "codemirror_mode": {
    "name": "ipython",
    "version": 3
   },
   "file_extension": ".py",
   "mimetype": "text/x-python",
   "name": "python",
   "nbconvert_exporter": "python",
   "pygments_lexer": "ipython3",
   "version": "3.6.5"
  },
  "varInspector": {
   "cols": {
    "lenName": 16,
    "lenType": 16,
    "lenVar": 40
   },
   "kernels_config": {
    "python": {
     "delete_cmd_postfix": "",
     "delete_cmd_prefix": "del ",
     "library": "var_list.py",
     "varRefreshCmd": "print(var_dic_list())"
    },
    "r": {
     "delete_cmd_postfix": ") ",
     "delete_cmd_prefix": "rm(",
     "library": "var_list.r",
     "varRefreshCmd": "cat(var_dic_list()) "
    }
   },
   "types_to_exclude": [
    "module",
    "function",
    "builtin_function_or_method",
    "instance",
    "_Feature"
   ],
   "window_display": false
  }
 },
 "nbformat": 4,
 "nbformat_minor": 2
}
