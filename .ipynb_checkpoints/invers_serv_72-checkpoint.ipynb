{
 "cells": [
  {
   "cell_type": "code",
   "execution_count": 2,
   "metadata": {
    "collapsed": true
   },
   "outputs": [],
   "source": [
    "import pandas as pd"
   ]
  },
  {
   "cell_type": "code",
   "execution_count": 3,
   "metadata": {},
   "outputs": [
    {
     "name": "stdout",
     "output_type": "stream",
     "text": [
      "../../Data/eval_texts.csv\r\n"
     ]
    }
   ],
   "source": [
    "! ls ../../Data/eval_texts.csv"
   ]
  },
  {
   "cell_type": "code",
   "execution_count": 93,
   "metadata": {},
   "outputs": [],
   "source": [
    "df = pd.read_csv('../../Data/eval_texts.csv', sep='\\t')\n",
    "# df.drop(['uid'], inplace=True)\n",
    "df.drop_duplicates(inplace=True)"
   ]
  },
  {
   "cell_type": "code",
   "execution_count": 91,
   "metadata": {},
   "outputs": [
    {
     "data": {
      "text/plain": [
       "Index(['uid', 'id', 'text', 'text_searchable', 'text_hash64', 'text_lang'], dtype='object')"
      ]
     },
     "execution_count": 91,
     "metadata": {},
     "output_type": "execute_result"
    }
   ],
   "source": [
    "df.columns"
   ]
  },
  {
   "cell_type": "code",
   "execution_count": 88,
   "metadata": {},
   "outputs": [
    {
     "data": {
      "text/html": [
       "<div>\n",
       "<style scoped>\n",
       "    .dataframe tbody tr th:only-of-type {\n",
       "        vertical-align: middle;\n",
       "    }\n",
       "\n",
       "    .dataframe tbody tr th {\n",
       "        vertical-align: top;\n",
       "    }\n",
       "\n",
       "    .dataframe thead th {\n",
       "        text-align: right;\n",
       "    }\n",
       "</style>\n",
       "<table border=\"1\" class=\"dataframe\">\n",
       "  <thead>\n",
       "    <tr style=\"text-align: right;\">\n",
       "      <th></th>\n",
       "      <th>uid</th>\n",
       "      <th>id</th>\n",
       "      <th>text</th>\n",
       "      <th>text_searchable</th>\n",
       "      <th>text_hash64</th>\n",
       "      <th>text_lang</th>\n",
       "    </tr>\n",
       "  </thead>\n",
       "  <tbody>\n",
       "    <tr>\n",
       "      <th>63</th>\n",
       "      <td>-9187498449367568816</td>\n",
       "      <td>357410</td>\n",
       "      <td>Уважаемые претенденты! Работа удаленная, поэто...</td>\n",
       "      <td>уважа претендент работ удал поэтом мы рассматр...</td>\n",
       "      <td>2716977069457642763</td>\n",
       "      <td>ru</td>\n",
       "    </tr>\n",
       "    <tr>\n",
       "      <th>1585</th>\n",
       "      <td>-8348144371439558062</td>\n",
       "      <td>357410</td>\n",
       "      <td>Уважаемые претенденты! Работа удаленная, поэто...</td>\n",
       "      <td>уважа претендент работ удал поэтом мы рассматр...</td>\n",
       "      <td>2716977069457642763</td>\n",
       "      <td>ru</td>\n",
       "    </tr>\n",
       "    <tr>\n",
       "      <th>4218</th>\n",
       "      <td>-6944419500555263214</td>\n",
       "      <td>357410</td>\n",
       "      <td>Уважаемые претенденты! Работа удаленная, поэто...</td>\n",
       "      <td>уважа претендент работ удал поэтом мы рассматр...</td>\n",
       "      <td>2716977069457642763</td>\n",
       "      <td>ru</td>\n",
       "    </tr>\n",
       "    <tr>\n",
       "      <th>5122</th>\n",
       "      <td>-6464270541648820156</td>\n",
       "      <td>357410</td>\n",
       "      <td>Уважаемые претенденты! Работа удаленная, поэто...</td>\n",
       "      <td>уважа претендент работ удал поэтом мы рассматр...</td>\n",
       "      <td>2716977069457642763</td>\n",
       "      <td>ru</td>\n",
       "    </tr>\n",
       "    <tr>\n",
       "      <th>6266</th>\n",
       "      <td>-5863403223849352511</td>\n",
       "      <td>357410</td>\n",
       "      <td>Уважаемые претенденты! Работа удаленная, поэто...</td>\n",
       "      <td>уважа претендент работ удал поэтом мы рассматр...</td>\n",
       "      <td>2716977069457642763</td>\n",
       "      <td>ru</td>\n",
       "    </tr>\n",
       "    <tr>\n",
       "      <th>10968</th>\n",
       "      <td>-3412395834005753779</td>\n",
       "      <td>357410</td>\n",
       "      <td>Уважаемые претенденты! Работа удаленная, поэто...</td>\n",
       "      <td>уважа претендент работ удал поэтом мы рассматр...</td>\n",
       "      <td>2716977069457642763</td>\n",
       "      <td>ru</td>\n",
       "    </tr>\n",
       "    <tr>\n",
       "      <th>13299</th>\n",
       "      <td>-2160282375022924280</td>\n",
       "      <td>357410</td>\n",
       "      <td>Уважаемые претенденты! Работа удаленная, поэто...</td>\n",
       "      <td>уважа претендент работ удал поэтом мы рассматр...</td>\n",
       "      <td>2716977069457642763</td>\n",
       "      <td>ru</td>\n",
       "    </tr>\n",
       "    <tr>\n",
       "      <th>22119</th>\n",
       "      <td>2528836597170644050</td>\n",
       "      <td>357410</td>\n",
       "      <td>Уважаемые претенденты! Работа удаленная, поэто...</td>\n",
       "      <td>уважа претендент работ удал поэтом мы рассматр...</td>\n",
       "      <td>2716977069457642763</td>\n",
       "      <td>ru</td>\n",
       "    </tr>\n",
       "    <tr>\n",
       "      <th>22933</th>\n",
       "      <td>2953290018153697794</td>\n",
       "      <td>357410</td>\n",
       "      <td>Уважаемые претенденты! Работа удаленная, поэто...</td>\n",
       "      <td>уважа претендент работ удал поэтом мы рассматр...</td>\n",
       "      <td>2716977069457642763</td>\n",
       "      <td>ru</td>\n",
       "    </tr>\n",
       "    <tr>\n",
       "      <th>24606</th>\n",
       "      <td>3842258621401573198</td>\n",
       "      <td>357410</td>\n",
       "      <td>Уважаемые претенденты! Работа удаленная, поэто...</td>\n",
       "      <td>уважа претендент работ удал поэтом мы рассматр...</td>\n",
       "      <td>2716977069457642763</td>\n",
       "      <td>ru</td>\n",
       "    </tr>\n",
       "    <tr>\n",
       "      <th>28848</th>\n",
       "      <td>6164638522510703012</td>\n",
       "      <td>357410</td>\n",
       "      <td>Уважаемые претенденты! Работа удаленная, поэто...</td>\n",
       "      <td>уважа претендент работ удал поэтом мы рассматр...</td>\n",
       "      <td>2716977069457642763</td>\n",
       "      <td>ru</td>\n",
       "    </tr>\n",
       "    <tr>\n",
       "      <th>31142</th>\n",
       "      <td>7396873415826906352</td>\n",
       "      <td>357410</td>\n",
       "      <td>Уважаемые претенденты! Работа удаленная, поэто...</td>\n",
       "      <td>уважа претендент работ удал поэтом мы рассматр...</td>\n",
       "      <td>2716977069457642763</td>\n",
       "      <td>ru</td>\n",
       "    </tr>\n",
       "    <tr>\n",
       "      <th>33286</th>\n",
       "      <td>8553558636634841081</td>\n",
       "      <td>357410</td>\n",
       "      <td>Уважаемые претенденты! Работа удаленная, поэто...</td>\n",
       "      <td>уважа претендент работ удал поэтом мы рассматр...</td>\n",
       "      <td>2716977069457642763</td>\n",
       "      <td>ru</td>\n",
       "    </tr>\n",
       "  </tbody>\n",
       "</table>\n",
       "</div>"
      ],
      "text/plain": [
       "                       uid      id  \\\n",
       "63    -9187498449367568816  357410   \n",
       "1585  -8348144371439558062  357410   \n",
       "4218  -6944419500555263214  357410   \n",
       "5122  -6464270541648820156  357410   \n",
       "6266  -5863403223849352511  357410   \n",
       "10968 -3412395834005753779  357410   \n",
       "13299 -2160282375022924280  357410   \n",
       "22119  2528836597170644050  357410   \n",
       "22933  2953290018153697794  357410   \n",
       "24606  3842258621401573198  357410   \n",
       "28848  6164638522510703012  357410   \n",
       "31142  7396873415826906352  357410   \n",
       "33286  8553558636634841081  357410   \n",
       "\n",
       "                                                    text  \\\n",
       "63     Уважаемые претенденты! Работа удаленная, поэто...   \n",
       "1585   Уважаемые претенденты! Работа удаленная, поэто...   \n",
       "4218   Уважаемые претенденты! Работа удаленная, поэто...   \n",
       "5122   Уважаемые претенденты! Работа удаленная, поэто...   \n",
       "6266   Уважаемые претенденты! Работа удаленная, поэто...   \n",
       "10968  Уважаемые претенденты! Работа удаленная, поэто...   \n",
       "13299  Уважаемые претенденты! Работа удаленная, поэто...   \n",
       "22119  Уважаемые претенденты! Работа удаленная, поэто...   \n",
       "22933  Уважаемые претенденты! Работа удаленная, поэто...   \n",
       "24606  Уважаемые претенденты! Работа удаленная, поэто...   \n",
       "28848  Уважаемые претенденты! Работа удаленная, поэто...   \n",
       "31142  Уважаемые претенденты! Работа удаленная, поэто...   \n",
       "33286  Уважаемые претенденты! Работа удаленная, поэто...   \n",
       "\n",
       "                                         text_searchable          text_hash64  \\\n",
       "63     уважа претендент работ удал поэтом мы рассматр...  2716977069457642763   \n",
       "1585   уважа претендент работ удал поэтом мы рассматр...  2716977069457642763   \n",
       "4218   уважа претендент работ удал поэтом мы рассматр...  2716977069457642763   \n",
       "5122   уважа претендент работ удал поэтом мы рассматр...  2716977069457642763   \n",
       "6266   уважа претендент работ удал поэтом мы рассматр...  2716977069457642763   \n",
       "10968  уважа претендент работ удал поэтом мы рассматр...  2716977069457642763   \n",
       "13299  уважа претендент работ удал поэтом мы рассматр...  2716977069457642763   \n",
       "22119  уважа претендент работ удал поэтом мы рассматр...  2716977069457642763   \n",
       "22933  уважа претендент работ удал поэтом мы рассматр...  2716977069457642763   \n",
       "24606  уважа претендент работ удал поэтом мы рассматр...  2716977069457642763   \n",
       "28848  уважа претендент работ удал поэтом мы рассматр...  2716977069457642763   \n",
       "31142  уважа претендент работ удал поэтом мы рассматр...  2716977069457642763   \n",
       "33286  уважа претендент работ удал поэтом мы рассматр...  2716977069457642763   \n",
       "\n",
       "      text_lang  \n",
       "63           ru  \n",
       "1585         ru  \n",
       "4218         ru  \n",
       "5122         ru  \n",
       "6266         ru  \n",
       "10968        ru  \n",
       "13299        ru  \n",
       "22119        ru  \n",
       "22933        ru  \n",
       "24606        ru  \n",
       "28848        ru  \n",
       "31142        ru  \n",
       "33286        ru  "
      ]
     },
     "execution_count": 88,
     "metadata": {},
     "output_type": "execute_result"
    }
   ],
   "source": [
    "df[df.id==357410]"
   ]
  },
  {
   "cell_type": "code",
   "execution_count": 8,
   "metadata": {},
   "outputs": [],
   "source": [
    "ids = df.id.values\n",
    "textes = df.text_searchable.values"
   ]
  },
  {
   "cell_type": "code",
   "execution_count": 60,
   "metadata": {},
   "outputs": [
    {
     "data": {
      "text/plain": [
       "'должност обязанност грамот выклад товар чиртон контрол ценник срок годност размещен реклам материал предоставлен фотоотчет по эл почт whatsapp требован опыт работ приветств налич л/а предпочтител кандидат без опыт всем с нул обуч водительск прав категори b мы предлага официал трудоустройств гсм входит в заработ плат полный рабоч ден разъезд характер'"
      ]
     },
     "execution_count": 60,
     "metadata": {},
     "output_type": "execute_result"
    }
   ],
   "source": [
    "textes[0]"
   ]
  },
  {
   "cell_type": "code",
   "execution_count": 79,
   "metadata": {},
   "outputs": [],
   "source": [
    "def parsetexts(ids, textes):\n",
    "    texts, words = {}, set()\n",
    "    for id, text in zip(ids, textes):\n",
    "        tokens = text.split()\n",
    "        words |= set(tokens)\n",
    "        texts[id] = tokens\n",
    "    return texts, words\n",
    "\n",
    "def termsearch(terms): # Searches simple inverted index\n",
    "    return reduce(set.intersection,\n",
    "                  (invindex[term] for term in terms),\n",
    "                  set(texts.keys()))\n",
    "\n",
    "def make_index(ids, textes):\n",
    "    \"\"\"index[0] will be max id of document !!!\"\"\"\n",
    "    texts, words = parsetexts(ids, textes)\n",
    "    invindex = {word:set(txt for txt, wrds in texts.items() if word in wrds)\n",
    "            for word in words}\n",
    "    invindex[0] = max(ids)\n",
    "    return invindex\n",
    "\n",
    "def update_index(text, index):\n",
    "    text_id = index[0]+1\n",
    "    tokens = text.split()\n",
    "    for tok in tokens:\n",
    "        try:\n",
    "            index[tok].update(text_id)\n",
    "        except:\n",
    "            index[tok] = {text_id}\n",
    "    index[0] = text_id\n",
    "\n",
    "\n",
    "def search_inv(tokens, index):\n",
    "    sets = []\n",
    "    for tok in tokens:\n",
    "        sets.append(index[tok])\n",
    "    ids = set.intersection(*sets)\n",
    "    return ids\n",
    "\n",
    "def search_docs(doc_ids, ids, textes):\n",
    "    docs = []\n",
    "    for doc_id in doc_ids:\n",
    "        docs.append(textes[ids.index(doc_ids)])\n",
    "    return docs"
   ]
  },
  {
   "cell_type": "code",
   "execution_count": 80,
   "metadata": {},
   "outputs": [],
   "source": [
    "index = make_index(ids[:100],textes[:100])"
   ]
  },
  {
   "cell_type": "code",
   "execution_count": 81,
   "metadata": {},
   "outputs": [
    {
     "data": {
      "text/plain": [
       "{357410,\n",
       " 394513,\n",
       " 1079925,\n",
       " 1101330,\n",
       " 1749131,\n",
       " 1866394,\n",
       " 2099281,\n",
       " 2126935,\n",
       " 2149426,\n",
       " 2244337,\n",
       " 2741271,\n",
       " 3108780,\n",
       " 4198827,\n",
       " 4775088,\n",
       " 5120061,\n",
       " 7300958,\n",
       " 8066124,\n",
       " 8494708,\n",
       " 9666048}"
      ]
     },
     "execution_count": 81,
     "metadata": {},
     "output_type": "execute_result"
    }
   ],
   "source": [
    "search_inv(['должност', 'обязанност'], index)"
   ]
  },
  {
   "cell_type": "code",
   "execution_count": 82,
   "metadata": {},
   "outputs": [],
   "source": [
    "s2 = index['обязанност']\n",
    "s1 = index['должност']"
   ]
  },
  {
   "cell_type": "code",
   "execution_count": 83,
   "metadata": {},
   "outputs": [
    {
     "data": {
      "text/plain": [
       "{357410,\n",
       " 394513,\n",
       " 1079925,\n",
       " 1101330,\n",
       " 1749131,\n",
       " 1866394,\n",
       " 2099281,\n",
       " 2126935,\n",
       " 2149426,\n",
       " 2244337,\n",
       " 2741271,\n",
       " 3108780,\n",
       " 4198827,\n",
       " 4775088,\n",
       " 5120061,\n",
       " 7300958,\n",
       " 8066124,\n",
       " 8494708,\n",
       " 9666048}"
      ]
     },
     "execution_count": 83,
     "metadata": {},
     "output_type": "execute_result"
    }
   ],
   "source": [
    "s1&s2"
   ]
  },
  {
   "cell_type": "code",
   "execution_count": null,
   "metadata": {
    "collapsed": true
   },
   "outputs": [],
   "source": []
  },
  {
   "cell_type": "code",
   "execution_count": 84,
   "metadata": {},
   "outputs": [
    {
     "ename": "KeyError",
     "evalue": "9666048",
     "output_type": "error",
     "traceback": [
      "\u001b[0;31m---------------------------------------------------------------------------\u001b[0m",
      "\u001b[0;31mKeyError\u001b[0m                                  Traceback (most recent call last)",
      "\u001b[0;32m<ipython-input-84-f8cc45061b8a>\u001b[0m in \u001b[0;36m<module>\u001b[0;34m()\u001b[0m\n\u001b[0;32m----> 1\u001b[0;31m \u001b[0mindex\u001b[0m\u001b[0;34m[\u001b[0m\u001b[0;36m9666048\u001b[0m\u001b[0;34m]\u001b[0m\u001b[0;34m\u001b[0m\u001b[0m\n\u001b[0m",
      "\u001b[0;31mKeyError\u001b[0m: 9666048"
     ]
    }
   ],
   "source": []
  },
  {
   "cell_type": "code",
   "execution_count": 70,
   "metadata": {},
   "outputs": [
    {
     "data": {
      "text/plain": [
       "{357410,\n",
       " 394513,\n",
       " 1079925,\n",
       " 1101330,\n",
       " 1749131,\n",
       " 1866394,\n",
       " 2099281,\n",
       " 2126935,\n",
       " 2149426,\n",
       " 2244337,\n",
       " 2741271,\n",
       " 3108780,\n",
       " 4198827,\n",
       " 4775088,\n",
       " 5120061,\n",
       " 7300958,\n",
       " 8066124,\n",
       " 8494708,\n",
       " 9666048}"
      ]
     },
     "execution_count": 70,
     "metadata": {},
     "output_type": "execute_result"
    }
   ],
   "source": [
    "list"
   ]
  },
  {
   "cell_type": "code",
   "execution_count": 71,
   "metadata": {},
   "outputs": [
    {
     "data": {
      "text/plain": [
       "{38478,\n",
       " 267468,\n",
       " 281428,\n",
       " 357410,\n",
       " 394513,\n",
       " 620634,\n",
       " 659367,\n",
       " 660819,\n",
       " 664210,\n",
       " 688019,\n",
       " 688044,\n",
       " 688976,\n",
       " 693509,\n",
       " 1079878,\n",
       " 1079925,\n",
       " 1101330,\n",
       " 1140003,\n",
       " 1231332,\n",
       " 1231349,\n",
       " 1600022,\n",
       " 1618421,\n",
       " 1749131,\n",
       " 1781751,\n",
       " 1788428,\n",
       " 1866394,\n",
       " 2011340,\n",
       " 2099281,\n",
       " 2126935,\n",
       " 2149426,\n",
       " 2244337,\n",
       " 2458477,\n",
       " 2573215,\n",
       " 2636923,\n",
       " 2741271,\n",
       " 2970587,\n",
       " 3059638,\n",
       " 3108778,\n",
       " 3108780,\n",
       " 3526459,\n",
       " 4198827,\n",
       " 4424697,\n",
       " 4428403,\n",
       " 4549687,\n",
       " 4775088,\n",
       " 5120061,\n",
       " 5349223,\n",
       " 5349908,\n",
       " 5433313,\n",
       " 6329712,\n",
       " 6340925,\n",
       " 6405006,\n",
       " 6618857,\n",
       " 6618861,\n",
       " 6618922,\n",
       " 6771462,\n",
       " 7300958,\n",
       " 7330010,\n",
       " 8066124,\n",
       " 8494708,\n",
       " 8870825,\n",
       " 9125428,\n",
       " 9666048,\n",
       " 9730492,\n",
       " 9856600}"
      ]
     },
     "execution_count": 71,
     "metadata": {},
     "output_type": "execute_result"
    }
   ],
   "source": [
    "s2"
   ]
  },
  {
   "cell_type": "code",
   "execution_count": 55,
   "metadata": {},
   "outputs": [
    {
     "data": {
      "text/plain": [
       "{1231332, 2149426, 2765467, 3108792, 6250749, 9856600}"
      ]
     },
     "execution_count": 55,
     "metadata": {},
     "output_type": "execute_result"
    }
   ],
   "source": [
    "index['свобод']"
   ]
  },
  {
   "cell_type": "code",
   "execution_count": 47,
   "metadata": {},
   "outputs": [
    {
     "name": "stdout",
     "output_type": "stream",
     "text": [
      "{1618421, 620634, 5120061}\n"
     ]
    }
   ],
   "source": [
    "update_index(textes[400], index)"
   ]
  },
  {
   "cell_type": "code",
   "execution_count": 35,
   "metadata": {},
   "outputs": [
    {
     "ename": "KeyError",
     "evalue": "'медина'",
     "output_type": "error",
     "traceback": [
      "\u001b[0;31m---------------------------------------------------------------------------\u001b[0m",
      "\u001b[0;31mKeyError\u001b[0m                                  Traceback (most recent call last)",
      "\u001b[0;32m<ipython-input-35-121112ab430f>\u001b[0m in \u001b[0;36m<module>\u001b[0;34m()\u001b[0m\n\u001b[0;32m----> 1\u001b[0;31m \u001b[0mindex\u001b[0m\u001b[0;34m[\u001b[0m\u001b[0;34m'медина'\u001b[0m\u001b[0;34m]\u001b[0m\u001b[0;34m\u001b[0m\u001b[0m\n\u001b[0m",
      "\u001b[0;31mKeyError\u001b[0m: 'медина'"
     ]
    }
   ],
   "source": [
    "index['медина']"
   ]
  },
  {
   "cell_type": "code",
   "execution_count": 73,
   "metadata": {},
   "outputs": [
    {
     "data": {
      "text/plain": [
       "{4}"
      ]
     },
     "execution_count": 73,
     "metadata": {},
     "output_type": "execute_result"
    }
   ],
   "source": [
    "ss1 = {1,2,3,4}\n",
    "ss2 = {4,5,6,7}\n",
    "ss1.intersection(ss2)"
   ]
  }
 ],
 "metadata": {
  "kernelspec": {
   "display_name": "Python 3",
   "language": "python",
   "name": "python3"
  },
  "language_info": {
   "codemirror_mode": {
    "name": "ipython",
    "version": 3
   },
   "file_extension": ".py",
   "mimetype": "text/x-python",
   "name": "python",
   "nbconvert_exporter": "python",
   "pygments_lexer": "ipython3",
   "version": "3.6.3"
  }
 },
 "nbformat": 4,
 "nbformat_minor": 2
}
