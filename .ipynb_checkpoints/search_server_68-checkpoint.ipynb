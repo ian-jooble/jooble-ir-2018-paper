{
 "cells": [
  {
   "cell_type": "code",
   "execution_count": null,
   "metadata": {
    "ExecuteTime": {
     "start_time": "2018-11-08T12:53:58.632Z"
    },
    "scrolled": true
   },
   "outputs": [
    {
     "name": "stderr",
     "output_type": "stream",
     "text": [
      " * Running on http://0.0.0.0:13568/ (Press CTRL+C to quit)\n",
      "62.80.177.194 - - [08/Nov/2018 18:56:14] \"POST /search HTTP/1.1\" 200 -\n"
     ]
    },
    {
     "name": "stdout",
     "output_type": "stream",
     "text": [
      "работники работы\n",
      "['работник', 'работ']\n",
      "1\n"
     ]
    },
    {
     "name": "stderr",
     "output_type": "stream",
     "text": [
      "62.80.177.194 - - [08/Nov/2018 18:56:58] \"POST /search HTTP/1.1\" 200 -\n"
     ]
    },
    {
     "name": "stdout",
     "output_type": "stream",
     "text": [
      "работающий работник\n",
      "['работа', 'работник']\n",
      "1\n"
     ]
    },
    {
     "name": "stderr",
     "output_type": "stream",
     "text": [
      "62.80.177.194 - - [08/Nov/2018 18:56:59] \"POST /search HTTP/1.1\" 200 -\n"
     ]
    },
    {
     "name": "stdout",
     "output_type": "stream",
     "text": [
      "работающий работник\n",
      "['работа', 'работник']\n",
      "1\n"
     ]
    }
   ],
   "source": [
    "from flask import Flask\n",
    "from flask import request,render_template,Markup\n",
    "from nltk.stem.porter import *\n",
    "from nltk import wordpunct_tokenize\n",
    "import nltk\n",
    "import requests\n",
    "import json\n",
    "import os \n",
    "\n",
    "app = Flask(__name__)\n",
    "\n",
    "@app.route(\"/\")\n",
    "def hello():\n",
    "    return render_template(\"index.html\")\n",
    "\n",
    "\n",
    "@app.route(\"/search\", methods=['GET', 'POST'])\n",
    "def search():\n",
    "    if request.method=='POST':    \n",
    "        data = request.json\n",
    "        \n",
    "        #  -- do some logging there --\n",
    "        meta = data['meta']\n",
    "        #  ---------------------------\n",
    "        \n",
    "        search_query = data['query']\n",
    "        print(search_query)\n",
    "        tokens = wordpunct_tokenize(search_query)\n",
    "        stemmer = nltk.stem.snowball.RussianStemmer()\n",
    "        singles = [stemmer.stem(word) for word in tokens]\n",
    "        print(singles)\n",
    "        r_search = requests.post('http://127.0.0.1:13569/search_query',\n",
    "                                 json={\"query\": singles, \"meta\":\"lalka\"}).text\n",
    "        docs = json.loads(r_search)['docs']\n",
    "        \n",
    "        print(len(docs))\n",
    "        return json.dumps({'status': \"ok\", \"results\": docs})\n",
    "    else:\n",
    "        return \"give me some text by post json {text: 'your text here'}\"\n",
    "    \n",
    "# @app.route('/lepus.jooble.com:13568/result',methods = ['POST', 'GET'])\n",
    "# def result():\n",
    "#     if request.method == 'POST':\n",
    "#         result = request.form\n",
    "#     return render_template(\"result.html\",result = result)    \n",
    "\n",
    "if __name__ == \"__main__\":\n",
    "    app.run(host='0.0.0.0', port=13568)"
   ]
  },
  {
   "cell_type": "code",
   "execution_count": 8,
   "metadata": {},
   "outputs": [
    {
     "ename": "SyntaxError",
     "evalue": "invalid syntax (<ipython-input-8-6c12afe3f913>, line 1)",
     "output_type": "error",
     "traceback": [
      "\u001b[0;36m  File \u001b[0;32m\"<ipython-input-8-6c12afe3f913>\"\u001b[0;36m, line \u001b[0;32m1\u001b[0m\n\u001b[0;31m    обязанност должност\u001b[0m\n\u001b[0m                      ^\u001b[0m\n\u001b[0;31mSyntaxError\u001b[0m\u001b[0;31m:\u001b[0m invalid syntax\n"
     ]
    }
   ],
   "source": [
    "обязанност должност"
   ]
  },
  {
   "cell_type": "code",
   "execution_count": null,
   "metadata": {
    "collapsed": true
   },
   "outputs": [],
   "source": []
  }
 ],
 "metadata": {
  "kernelspec": {
   "display_name": "Python 3",
   "language": "python",
   "name": "python3"
  },
  "language_info": {
   "codemirror_mode": {
    "name": "ipython",
    "version": 3
   },
   "file_extension": ".py",
   "mimetype": "text/x-python",
   "name": "python",
   "nbconvert_exporter": "python",
   "pygments_lexer": "ipython3",
   "version": "3.6.3"
  },
  "varInspector": {
   "cols": {
    "lenName": 16,
    "lenType": 16,
    "lenVar": 40
   },
   "kernels_config": {
    "python": {
     "delete_cmd_postfix": "",
     "delete_cmd_prefix": "del ",
     "library": "var_list.py",
     "varRefreshCmd": "print(var_dic_list())"
    },
    "r": {
     "delete_cmd_postfix": ") ",
     "delete_cmd_prefix": "rm(",
     "library": "var_list.r",
     "varRefreshCmd": "cat(var_dic_list()) "
    }
   },
   "types_to_exclude": [
    "module",
    "function",
    "builtin_function_or_method",
    "instance",
    "_Feature"
   ],
   "window_display": false
  }
 },
 "nbformat": 4,
 "nbformat_minor": 2
}
