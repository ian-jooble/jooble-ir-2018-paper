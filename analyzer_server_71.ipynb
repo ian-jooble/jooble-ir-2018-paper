{
 "cells": [
  {
   "cell_type": "code",
   "execution_count": null,
   "metadata": {
    "ExecuteTime": {
     "start_time": "2018-11-07T15:57:39.951Z"
    }
   },
   "outputs": [
    {
     "name": "stdout",
     "output_type": "stream",
     "text": [
      "[nltk_data] Downloading package stopwords to\n",
      "[nltk_data]     /usr/local/share/nltk_data...\n",
      "[nltk_data]   Package stopwords is already up-to-date!\n",
      " * Serving Flask app \"__main__\" (lazy loading)\n",
      " * Environment: production\n",
      "   WARNING: Do not use the development server in a production environment.\n",
      "   Use a production WSGI server instead.\n",
      " * Debug mode: off\n"
     ]
    },
    {
     "name": "stderr",
     "output_type": "stream",
     "text": [
      " * Running on http://0.0.0.0:13571/ (Press CTRL+C to quit)\n",
      "127.0.0.1 - - [07/Nov/2018 17:57:42] \"\u001b[37mGET / HTTP/1.1\u001b[0m\" 200 -\n",
      "127.0.0.1 - - [07/Nov/2018 17:57:44] \"\u001b[37mPOST /analyze HTTP/1.1\u001b[0m\" 200 -\n"
     ]
    }
   ],
   "source": [
    "from flask import Flask\n",
    "from flask import request\n",
    "import json\n",
    "import requests\n",
    "\n",
    "# -----nltk stuf----\n",
    "from nltk import wordpunct_tokenize\n",
    "from nltk.corpus import stopwords\n",
    "import nltk\n",
    "nltk.download('stopwords')\n",
    "\n",
    "app = Flask(__name__)\n",
    "\n",
    "@app.route(\"/\")\n",
    "def hello():\n",
    "    return \"Hello World!\"\n",
    "\n",
    "\n",
    "@app.route(\"/analyze\", methods=['GET', 'POST'])\n",
    "def analyze():\n",
    "    if request.method=='POST':\n",
    "        data = request.json\n",
    "        text = data[\"text\"]\n",
    "        \n",
    "        r_lang = requests.post('http://127.0.0.1:13567/lang_detect', json={'text' : text}).text\n",
    "        lang = json.loads(r_lang)['lang']\n",
    "        \n",
    "        r_stemmed = requests.post('http://127.0.0.1:13566/stemmer', json={'text' : text}).text\n",
    "        stemmed_words = json.loads()['stemmed_words']\n",
    "        \n",
    "        r_s\n",
    "        filtered_words = [word for word in word_list if word not in stopwords.words('english')]\n",
    "        \n",
    "        return json.dumps({'status':'ok', 'lang': lang, 'stemmed_words': stemmed_words})\n",
    "    else:\n",
    "        return \"give me some text by post json {text: 'your text here'}\"\n",
    "    \n",
    "\n",
    "if __name__ == \"__main__\":\n",
    "    app.run(host='0.0.0.0', port=13571)"
   ]
  },
  {
   "cell_type": "code",
   "execution_count": 10,
   "metadata": {
    "ExecuteTime": {
     "end_time": "2018-11-07T15:51:29.879029Z",
     "start_time": "2018-11-07T15:51:29.850923Z"
    }
   },
   "outputs": [
    {
     "name": "stdout",
     "output_type": "stream",
     "text": [
      "200\n",
      "{\"status\": \"ok\", \"lang\": \"arabic\"}\n"
     ]
    }
   ],
   "source": [
    "r = requests.post('http://127.0.0.1:13567/lang_detect', json={'text' : \"text\"})\n",
    "print(r.status_code)\n",
    "print(r.text)"
   ]
  },
  {
   "cell_type": "code",
   "execution_count": 13,
   "metadata": {
    "ExecuteTime": {
     "end_time": "2018-11-07T15:52:24.406308Z",
     "start_time": "2018-11-07T15:52:24.401089Z"
    }
   },
   "outputs": [
    {
     "data": {
      "text/plain": [
       "{'lang': 'arabic', 'status': 'ok'}"
      ]
     },
     "execution_count": 13,
     "metadata": {},
     "output_type": "execute_result"
    }
   ],
   "source": [
    "json.loads(r.text)"
   ]
  }
 ],
 "metadata": {
  "kernelspec": {
   "display_name": "Python 3",
   "language": "python",
   "name": "python3"
  },
  "language_info": {
   "codemirror_mode": {
    "name": "ipython",
    "version": 3
   },
   "file_extension": ".py",
   "mimetype": "text/x-python",
   "name": "python",
   "nbconvert_exporter": "python",
   "pygments_lexer": "ipython3",
   "version": "3.6.3"
  },
  "varInspector": {
   "cols": {
    "lenName": 16,
    "lenType": 16,
    "lenVar": 40
   },
   "kernels_config": {
    "python": {
     "delete_cmd_postfix": "",
     "delete_cmd_prefix": "del ",
     "library": "var_list.py",
     "varRefreshCmd": "print(var_dic_list())"
    },
    "r": {
     "delete_cmd_postfix": ") ",
     "delete_cmd_prefix": "rm(",
     "library": "var_list.r",
     "varRefreshCmd": "cat(var_dic_list()) "
    }
   },
   "types_to_exclude": [
    "module",
    "function",
    "builtin_function_or_method",
    "instance",
    "_Feature"
   ],
   "window_display": false
  }
 },
 "nbformat": 4,
 "nbformat_minor": 2
}
