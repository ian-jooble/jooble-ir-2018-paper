{
 "cells": [
  {
   "cell_type": "code",
   "execution_count": null,
   "metadata": {
    "ExecuteTime": {
     "start_time": "2018-11-21T20:34:15.367Z"
    },
    "scrolled": true
   },
   "outputs": [
    {
     "name": "stderr",
     "output_type": "stream",
     "text": [
      " * Running on http://0.0.0.0:13566/ (Press CTRL+C to quit)\n",
      "127.0.0.1 - - [22/Nov/2018 17:15:19] \"POST /stemmer HTTP/1.1\" 200 -\n",
      "127.0.0.1 - - [22/Nov/2018 17:15:53] \"POST /stemmer HTTP/1.1\" 200 -\n",
      "127.0.0.1 - - [22/Nov/2018 17:20:03] \"POST /stemmer HTTP/1.1\" 200 -\n",
      "127.0.0.1 - - [22/Nov/2018 17:21:45] \"POST /stemmer HTTP/1.1\" 200 -\n",
      "127.0.0.1 - - [22/Nov/2018 17:21:56] \"POST /stemmer HTTP/1.1\" 200 -\n",
      "127.0.0.1 - - [22/Nov/2018 17:22:32] \"POST /stemmer HTTP/1.1\" 200 -\n",
      "127.0.0.1 - - [22/Nov/2018 17:24:09] \"POST /stemmer HTTP/1.1\" 200 -\n",
      "127.0.0.1 - - [22/Nov/2018 17:24:10] \"POST /stemmer HTTP/1.1\" 200 -\n",
      "127.0.0.1 - - [22/Nov/2018 17:24:23] \"POST /stemmer HTTP/1.1\" 200 -\n",
      "127.0.0.1 - - [22/Nov/2018 17:24:47] \"POST /stemmer HTTP/1.1\" 200 -\n",
      "127.0.0.1 - - [22/Nov/2018 17:25:33] \"POST /stemmer HTTP/1.1\" 200 -\n",
      "127.0.0.1 - - [22/Nov/2018 17:25:36] \"POST /stemmer HTTP/1.1\" 200 -\n",
      "127.0.0.1 - - [22/Nov/2018 17:25:52] \"POST /stemmer HTTP/1.1\" 200 -\n",
      "127.0.0.1 - - [22/Nov/2018 17:30:21] \"POST /stemmer HTTP/1.1\" 200 -\n",
      "127.0.0.1 - - [22/Nov/2018 17:30:28] \"POST /stemmer HTTP/1.1\" 200 -\n",
      "127.0.0.1 - - [22/Nov/2018 17:30:28] \"POST /stemmer HTTP/1.1\" 200 -\n",
      "127.0.0.1 - - [22/Nov/2018 17:30:42] \"POST /stemmer HTTP/1.1\" 200 -\n",
      "127.0.0.1 - - [22/Nov/2018 17:30:49] \"POST /stemmer HTTP/1.1\" 200 -\n",
      "127.0.0.1 - - [22/Nov/2018 17:34:18] \"POST /stemmer HTTP/1.1\" 200 -\n",
      "127.0.0.1 - - [22/Nov/2018 17:34:54] \"POST /stemmer HTTP/1.1\" 200 -\n"
     ]
    }
   ],
   "source": [
    "import json\n",
    "\n",
    "\n",
    "from flask import Flask\n",
    "from flask import request\n",
    "import nltk\n",
    "from nltk import wordpunct_tokenize\n",
    "\n",
    "from paper.config import *\n",
    "\n",
    "\n",
    "app = Flask(__name__)\n",
    "\n",
    "@app.route(\"/\")\n",
    "def hello():\n",
    "    return \"Hello World!\"\n",
    "\n",
    "@app.route(STEMMER_PATH, methods=['GET','POST'])\n",
    "def stemmer():\n",
    "    \"\"\"\n",
    "    Receive: text document and language\n",
    "    Return: list of stemmed tokens for document\n",
    "    \"\"\"\n",
    "    if request.method=='POST':\n",
    "        data = request.json\n",
    "        textes = data[\"textes\"]\n",
    "        langs = data[\"langs\"]\n",
    "        \n",
    "        stemmer_ru = nltk.stem.snowball.RussianStemmer()\n",
    "        stemmer_en = nltk.stem.porter.PorterStemmer()\n",
    "        stemmed = []\n",
    "        \n",
    "        for text, lang in zip(textes, langs):\n",
    "            tokens = wordpunct_tokenize(text)\n",
    "            if lang=='ru': \n",
    "                stemmed.append([stemmer_ru.stem(tok) for tok in tokens])\n",
    "            elif lang=='en':\n",
    "                stemmed.append([stemmer_en.stem(tok) for tok in tokens])\n",
    "            else:\n",
    "                stemmed.append(tokens)\n",
    "\n",
    "        return json.dumps({'stemmed': stemmed})\n",
    "    else:\n",
    "        return \"provide json {'textes': 'textes', 'lang': 'lang'}\"\n",
    "    \n",
    "if __name__ == \"__main__\":\n",
    "    app.run(host='0.0.0.0', port=STEMMER_PORT)"
   ]
  },
  {
   "cell_type": "code",
   "execution_count": null,
   "metadata": {
    "collapsed": true
   },
   "outputs": [],
   "source": [
    "singles = [stemmer.stem(plural) for plural in plurals]\n"
   ]
  },
  {
   "cell_type": "code",
   "execution_count": null,
   "metadata": {
    "collapsed": true
   },
   "outputs": [],
   "source": []
  }
 ],
 "metadata": {
  "kernelspec": {
   "display_name": "Python 3",
   "language": "python",
   "name": "python3"
  },
  "language_info": {
   "codemirror_mode": {
    "name": "ipython",
    "version": 3
   },
   "file_extension": ".py",
   "mimetype": "text/x-python",
   "name": "python",
   "nbconvert_exporter": "python",
   "pygments_lexer": "ipython3",
   "version": "3.6.3"
  },
  "varInspector": {
   "cols": {
    "lenName": 16,
    "lenType": 16,
    "lenVar": 40
   },
   "kernels_config": {
    "python": {
     "delete_cmd_postfix": "",
     "delete_cmd_prefix": "del ",
     "library": "var_list.py",
     "varRefreshCmd": "print(var_dic_list())"
    },
    "r": {
     "delete_cmd_postfix": ") ",
     "delete_cmd_prefix": "rm(",
     "library": "var_list.r",
     "varRefreshCmd": "cat(var_dic_list()) "
    }
   },
   "types_to_exclude": [
    "module",
    "function",
    "builtin_function_or_method",
    "instance",
    "_Feature"
   ],
   "window_display": false
  }
 },
 "nbformat": 4,
 "nbformat_minor": 2
}
