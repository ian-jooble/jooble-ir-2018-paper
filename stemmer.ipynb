{
 "cells": [
  {
   "cell_type": "code",
   "execution_count": null,
   "metadata": {
    "ExecuteTime": {
     "start_time": "2018-12-02T17:51:27.110Z"
    },
    "scrolled": true
   },
   "outputs": [
    {
     "name": "stdout",
     "output_type": "stream",
     "text": [
      " * Serving Flask app \"__main__\" (lazy loading)\n",
      " * Environment: production\n",
      "   WARNING: Do not use the development server in a production environment.\n",
      "   Use a production WSGI server instead.\n",
      " * Debug mode: off\n"
     ]
    },
    {
     "name": "stderr",
     "output_type": "stream",
     "text": [
      " * Running on http://0.0.0.0:13566/ (Press CTRL+C to quit)\n",
      "127.0.0.1 - - [02/Dec/2018 20:43:35] \"\u001b[37mPOST /stemmer HTTP/1.1\u001b[0m\" 200 -\n",
      "127.0.0.1 - - [02/Dec/2018 21:06:09] \"\u001b[37mPOST /stemmer HTTP/1.1\u001b[0m\" 200 -\n",
      "127.0.0.1 - - [02/Dec/2018 21:06:13] \"\u001b[37mPOST /stemmer HTTP/1.1\u001b[0m\" 200 -\n",
      "127.0.0.1 - - [02/Dec/2018 21:06:16] \"\u001b[37mPOST /stemmer HTTP/1.1\u001b[0m\" 200 -\n",
      "127.0.0.1 - - [03/Dec/2018 00:42:41] \"\u001b[37mPOST /stemmer HTTP/1.1\u001b[0m\" 200 -\n",
      "127.0.0.1 - - [03/Dec/2018 00:42:51] \"\u001b[37mPOST /stemmer HTTP/1.1\u001b[0m\" 200 -\n"
     ]
    }
   ],
   "source": [
    "import json\n",
    "\n",
    "from flask import Flask\n",
    "from flask import request\n",
    "import nltk\n",
    "from nltk import wordpunct_tokenize\n",
    "\n",
    "from paper.config import STEMMER_PATH, STEMMER_PORT\n",
    "\n",
    "from paper.analyze import normalize_and_stemm\n",
    "\n",
    "app = Flask(__name__)\n",
    "\n",
    "@app.route(\"/\")\n",
    "def hello():\n",
    "    return \"Hello World!\"\n",
    "\n",
    "@app.route(STEMMER_PATH, methods=['GET','POST'])\n",
    "def stemmer():\n",
    "    \"\"\"\n",
    "    Receive: text documents and languages\n",
    "    Return: list of lists of stemmed tokens for documents\n",
    "    \"\"\"\n",
    "    if request.method=='POST':\n",
    "        data = request.json\n",
    "        textes = data[\"textes\"]\n",
    "        langs = data[\"langs\"]\n",
    "        \n",
    "        stemmed = [normalize_and_stemm(text, lang) for text, lang \n",
    "                   in zip(textes, langs)]\n",
    "        \n",
    "        return json.dumps({'stemmed': stemmed})\n",
    "    else:\n",
    "        return \"provide json {'textes': 'textes', 'lang': 'lang'}\"\n",
    "    \n",
    "if __name__ == \"__main__\":\n",
    "    app.run(host='0.0.0.0', port=STEMMER_PORT)"
   ]
  }
 ],
 "metadata": {
  "kernelspec": {
   "display_name": "Python 3",
   "language": "python",
   "name": "python3"
  },
  "language_info": {
   "codemirror_mode": {
    "name": "ipython",
    "version": 3
   },
   "file_extension": ".py",
   "mimetype": "text/x-python",
   "name": "python",
   "nbconvert_exporter": "python",
   "pygments_lexer": "ipython3",
   "version": "3.6.5"
  },
  "varInspector": {
   "cols": {
    "lenName": 16,
    "lenType": 16,
    "lenVar": 40
   },
   "kernels_config": {
    "python": {
     "delete_cmd_postfix": "",
     "delete_cmd_prefix": "del ",
     "library": "var_list.py",
     "varRefreshCmd": "print(var_dic_list())"
    },
    "r": {
     "delete_cmd_postfix": ") ",
     "delete_cmd_prefix": "rm(",
     "library": "var_list.r",
     "varRefreshCmd": "cat(var_dic_list()) "
    }
   },
   "types_to_exclude": [
    "module",
    "function",
    "builtin_function_or_method",
    "instance",
    "_Feature"
   ],
   "window_display": false
  }
 },
 "nbformat": 4,
 "nbformat_minor": 2
}
