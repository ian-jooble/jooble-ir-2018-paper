{
 "cells": [
  {
   "cell_type": "code",
   "execution_count": null,
   "metadata": {
    "ExecuteTime": {
     "start_time": "2018-12-02T17:51:38.443Z"
    },
    "scrolled": true
   },
   "outputs": [
    {
     "name": "stdout",
     "output_type": "stream",
     "text": [
      " * Serving Flask app \"__main__\" (lazy loading)\n",
      " * Environment: production\n",
      "   WARNING: Do not use the development server in a production environment.\n",
      "   Use a production WSGI server instead.\n",
      " * Debug mode: off\n"
     ]
    },
    {
     "name": "stderr",
     "output_type": "stream",
     "text": [
      " * Running on http://0.0.0.0:13568/ (Press CTRL+C to quit)\n",
      "127.0.0.1 - - [02/Dec/2018 20:43:23] \"\u001b[37mGET / HTTP/1.1\u001b[0m\" 200 -\n",
      "127.0.0.1 - - [02/Dec/2018 20:43:37] \"\u001b[37mPOST /search HTTP/1.1\u001b[0m\" 200 -\n",
      "127.0.0.1 - - [02/Dec/2018 21:06:05] \"\u001b[37mGET /? HTTP/1.1\u001b[0m\" 200 -\n",
      "127.0.0.1 - - [02/Dec/2018 21:06:09] \"\u001b[37mPOST /search HTTP/1.1\u001b[0m\" 200 -\n",
      "127.0.0.1 - - [02/Dec/2018 21:06:13] \"\u001b[37mPOST /search HTTP/1.1\u001b[0m\" 200 -\n",
      "127.0.0.1 - - [02/Dec/2018 21:06:16] \"\u001b[37mPOST /search HTTP/1.1\u001b[0m\" 200 -\n",
      "127.0.0.1 - - [03/Dec/2018 00:42:36] \"\u001b[37mGET /? HTTP/1.1\u001b[0m\" 200 -\n",
      "127.0.0.1 - - [03/Dec/2018 00:42:41] \"\u001b[37mPOST /search HTTP/1.1\u001b[0m\" 200 -\n",
      "127.0.0.1 - - [03/Dec/2018 00:42:51] \"\u001b[37mPOST /search HTTP/1.1\u001b[0m\" 200 -\n"
     ]
    }
   ],
   "source": [
    "import json\n",
    "\n",
    "import requests\n",
    "from flask import Flask\n",
    "from flask import request, render_template\n",
    "\n",
    "from paper import index\n",
    "from paper.utils import post_request\n",
    "\n",
    "from paper.config import SEARCH_PATH, SEARCH_PORT\n",
    "from paper.config import RANK_PATH, RANK_PORT, ANALYZER_PATH, ANALYZER_PORT\n",
    "\n",
    "\n",
    "app = Flask(__name__)\n",
    "\n",
    "@app.route(\"/\")\n",
    "def hello():\n",
    "    \"\"\"Render user interface with search form from templates\"\"\"\n",
    "    return render_template(\"index.html\")\n",
    "\n",
    "\n",
    "@app.route(SEARCH_PATH, methods=['GET', 'POST'])\n",
    "def search():\n",
    "    \"\"\"\n",
    "    Search server provide UI hosting and all search workflow\n",
    "    Receive ajax post request from user interface with meta and search  \n",
    "    \"\"\"\n",
    "    if request.method=='POST':    \n",
    "        data = request.json\n",
    "        meta = data['meta']\n",
    "        query = data['query']\n",
    "        \n",
    "        analyze_json = {'textes': [query]}\n",
    "        r_analyzing_query = post_request(ANALYZER_PORT, ANALYZER_PATH, analyze_json)\n",
    "        stemmed_query = r_analyzing_query['stemmed_docs'][0]\n",
    "        query_lang = r_analyzing_query['langs'][0]\n",
    "\n",
    "        query_json = {\"stemmed_query\": stemmed_query, \"meta\":\"lalka\"}  \n",
    "        r_rank = post_request(RANK_PORT, RANK_PATH, query_json)\n",
    "        ranked_ids = r_rank[\"ranked_ids\"]\n",
    "        \n",
    "        ranked_docs = index.get_docs(ranked_ids)\n",
    "        \n",
    "        return json.dumps({'status': \"ok\", \"results\": ranked_docs})\n",
    "    else:\n",
    "        return \"give me some text by post json {text: 'your text here'}\"\n",
    "    \n",
    "\n",
    "if __name__ == \"__main__\":\n",
    "    app.run(host='0.0.0.0', port=SEARCH_PORT)"
   ]
  }
 ],
 "metadata": {
  "kernelspec": {
   "display_name": "Python 3",
   "language": "python",
   "name": "python3"
  },
  "language_info": {
   "codemirror_mode": {
    "name": "ipython",
    "version": 3
   },
   "file_extension": ".py",
   "mimetype": "text/x-python",
   "name": "python",
   "nbconvert_exporter": "python",
   "pygments_lexer": "ipython3",
   "version": "3.6.5"
  },
  "varInspector": {
   "cols": {
    "lenName": 16,
    "lenType": 16,
    "lenVar": 40
   },
   "kernels_config": {
    "python": {
     "delete_cmd_postfix": "",
     "delete_cmd_prefix": "del ",
     "library": "var_list.py",
     "varRefreshCmd": "print(var_dic_list())"
    },
    "r": {
     "delete_cmd_postfix": ") ",
     "delete_cmd_prefix": "rm(",
     "library": "var_list.r",
     "varRefreshCmd": "cat(var_dic_list()) "
    }
   },
   "types_to_exclude": [
    "module",
    "function",
    "builtin_function_or_method",
    "instance",
    "_Feature"
   ],
   "window_display": false
  }
 },
 "nbformat": 4,
 "nbformat_minor": 2
}
