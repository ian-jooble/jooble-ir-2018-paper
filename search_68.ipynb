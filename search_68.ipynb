{
 "cells": [
  {
   "cell_type": "code",
   "execution_count": null,
   "metadata": {
    "ExecuteTime": {
     "start_time": "2018-11-14T12:56:10.335Z"
    },
    "scrolled": true
   },
   "outputs": [
    {
     "name": "stdout",
     "output_type": "stream",
     "text": [
      " * Serving Flask app \"__main__\" (lazy loading)\n",
      " * Environment: production\n",
      "   WARNING: Do not use the development server in a production environment.\n",
      "   Use a production WSGI server instead.\n",
      " * Debug mode: off\n"
     ]
    },
    {
     "name": "stderr",
     "output_type": "stream",
     "text": [
      " * Running on http://0.0.0.0:13568/ (Press CTRL+C to quit)\n",
      "127.0.0.1 - - [14/Nov/2018 14:56:31] \"\u001b[37mPOST /search HTTP/1.1\u001b[0m\" 200 -\n"
     ]
    },
    {
     "name": "stdout",
     "output_type": "stream",
     "text": [
      "['о']\n"
     ]
    },
    {
     "name": "stderr",
     "output_type": "stream",
     "text": [
      "127.0.0.1 - - [14/Nov/2018 14:57:37] \"\u001b[37mPOST /search HTTP/1.1\u001b[0m\" 200 -\n"
     ]
    },
    {
     "name": "stdout",
     "output_type": "stream",
     "text": [
      "['о']\n"
     ]
    },
    {
     "name": "stderr",
     "output_type": "stream",
     "text": [
      "127.0.0.1 - - [14/Nov/2018 15:00:22] \"\u001b[37mPOST /search HTTP/1.1\u001b[0m\" 200 -\n"
     ]
    },
    {
     "name": "stdout",
     "output_type": "stream",
     "text": [
      "['о']\n"
     ]
    },
    {
     "name": "stderr",
     "output_type": "stream",
     "text": [
      "127.0.0.1 - - [14/Nov/2018 15:00:27] \"\u001b[37mPOST /search HTTP/1.1\u001b[0m\" 200 -\n"
     ]
    },
    {
     "name": "stdout",
     "output_type": "stream",
     "text": [
      "['тематик']\n"
     ]
    },
    {
     "name": "stderr",
     "output_type": "stream",
     "text": [
      "127.0.0.1 - - [14/Nov/2018 15:00:35] \"\u001b[37mPOST /search HTTP/1.1\u001b[0m\" 200 -\n"
     ]
    },
    {
     "name": "stdout",
     "output_type": "stream",
     "text": [
      "['тематик', 'дан']\n"
     ]
    },
    {
     "name": "stderr",
     "output_type": "stream",
     "text": [
      "127.0.0.1 - - [14/Nov/2018 15:01:26] \"\u001b[33mGET /gen204?invalidResponse=q=https%3A%2F%2Ftranslate.googleapis.com%2Ftranslate_a%2Fsingle%3Fclient%3Dgtx%26s,ql=190,r=,rl=0 HTTP/1.1\u001b[0m\" 404 -\n",
      "127.0.0.1 - - [14/Nov/2018 15:01:26] \"\u001b[33mGET /gen204?invalidResponse=q=https%3A%2F%2Ftranslate.googleapis.com%2Ftranslate_a%2Fsingle%3Fclient%3Dgtx%26s,ql=173,r=,rl=0 HTTP/1.1\u001b[0m\" 404 -\n",
      "127.0.0.1 - - [14/Nov/2018 15:01:26] \"\u001b[33mGET /gen204?invalidResponse=q=https%3A%2F%2Ftranslate.googleapis.com%2Ftranslate_a%2Fsingle%3Fclient%3Dgtx%26s,ql=196,r=,rl=0 HTTP/1.1\u001b[0m\" 404 -\n"
     ]
    }
   ],
   "source": [
    "from flask import Flask\n",
    "from flask import request, render_template\n",
    "from paper.utils import post_request\n",
    "import requests\n",
    "import json\n",
    "\n",
    "\n",
    "app = Flask(__name__)\n",
    "\n",
    "@app.route(\"/\")\n",
    "def hello():\n",
    "    \"\"\"Render user interface with search form from templates\"\"\"\n",
    "    return render_template(\"index.html\")\n",
    "\n",
    "\n",
    "@app.route(\"/search\", methods=['GET', 'POST'])\n",
    "def search():\n",
    "    \"\"\"\n",
    "    Search server provide UI hosting and all search workflow\n",
    "    Receive ajax post request from user interface with meta and search \n",
    "    \n",
    "    \"\"\"\n",
    "    if request.method=='POST':    \n",
    "        data = request.json\n",
    "        #  -- do some logging there --\n",
    "        meta = data['meta']\n",
    "        #  ---------------------------\n",
    "        \n",
    "        #  ------ analyzing query -----\n",
    "        query = data['query']\n",
    "        r_analyzing_query = requests.post('http://127.0.0.1:13571/analyze', json={'textes' : [query]}).text\n",
    "        \n",
    "        stemmed_query = json.loads(r_analyzing_query)['stemmed_docs'][0]\n",
    "        query_lang = json.loads(r_analyzing_query)['langs'][0]\n",
    "        # ------- search and ranking docs -----\n",
    "        query_json = {\"stemmed_query\": stemmed_query,\n",
    "                      \"meta\":\"lalka\"}\n",
    "        r_rank = requests.post('http://127.0.0.1:13570/rank', json=query_json).text\n",
    "        docs = json.loads(r_rank)[\"ranked\"]\n",
    "\n",
    "        return json.dumps({'status': \"ok\", \"results\": docs})\n",
    "    else:\n",
    "        return \"give me some text by post json {text: 'your text here'}\"\n",
    "    \n",
    "    \n",
    "    \n",
    "\n",
    "if __name__ == \"__main__\":\n",
    "    app.run(host='0.0.0.0', port=13568)"
   ]
  },
  {
   "cell_type": "code",
   "execution_count": 8,
   "metadata": {},
   "outputs": [
    {
     "ename": "SyntaxError",
     "evalue": "invalid syntax (<ipython-input-8-6c12afe3f913>, line 1)",
     "output_type": "error",
     "traceback": [
      "\u001b[0;36m  File \u001b[0;32m\"<ipython-input-8-6c12afe3f913>\"\u001b[0;36m, line \u001b[0;32m1\u001b[0m\n\u001b[0;31m    обязанност должност\u001b[0m\n\u001b[0m                      ^\u001b[0m\n\u001b[0;31mSyntaxError\u001b[0m\u001b[0;31m:\u001b[0m invalid syntax\n"
     ]
    }
   ],
   "source": [
    "обязанност должност"
   ]
  },
  {
   "cell_type": "code",
   "execution_count": null,
   "metadata": {
    "collapsed": true
   },
   "outputs": [],
   "source": []
  }
 ],
 "metadata": {
  "kernelspec": {
   "display_name": "Python 3",
   "language": "python",
   "name": "python3"
  },
  "language_info": {
   "codemirror_mode": {
    "name": "ipython",
    "version": 3
   },
   "file_extension": ".py",
   "mimetype": "text/x-python",
   "name": "python",
   "nbconvert_exporter": "python",
   "pygments_lexer": "ipython3",
   "version": "3.6.5"
  },
  "varInspector": {
   "cols": {
    "lenName": 16,
    "lenType": 16,
    "lenVar": 40
   },
   "kernels_config": {
    "python": {
     "delete_cmd_postfix": "",
     "delete_cmd_prefix": "del ",
     "library": "var_list.py",
     "varRefreshCmd": "print(var_dic_list())"
    },
    "r": {
     "delete_cmd_postfix": ") ",
     "delete_cmd_prefix": "rm(",
     "library": "var_list.r",
     "varRefreshCmd": "cat(var_dic_list()) "
    }
   },
   "types_to_exclude": [
    "module",
    "function",
    "builtin_function_or_method",
    "instance",
    "_Feature"
   ],
   "window_display": false
  }
 },
 "nbformat": 4,
 "nbformat_minor": 2
}
