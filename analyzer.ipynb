{
 "cells": [
  {
   "cell_type": "code",
   "execution_count": 1,
   "metadata": {
    "ExecuteTime": {
     "end_time": "2018-11-27T11:32:57.187128Z",
     "start_time": "2018-11-27T10:59:59.403563Z"
    }
   },
   "outputs": [
    {
     "name": "stdout",
     "output_type": "stream",
     "text": [
      " * Serving Flask app \"__main__\" (lazy loading)\n",
      " * Environment: production\n",
      "   WARNING: Do not use the development server in a production environment.\n",
      "   Use a production WSGI server instead.\n",
      " * Debug mode: off\n"
     ]
    },
    {
     "name": "stderr",
     "output_type": "stream",
     "text": [
      " * Running on http://0.0.0.0:13571/ (Press CTRL+C to quit)\n",
      "127.0.0.1 - - [27/Nov/2018 13:00:32] \"\u001b[37mPOST /analyze HTTP/1.1\u001b[0m\" 200 -\n",
      "127.0.0.1 - - [27/Nov/2018 13:02:02] \"\u001b[37mPOST /analyze HTTP/1.1\u001b[0m\" 200 -\n",
      "127.0.0.1 - - [27/Nov/2018 13:02:32] \"\u001b[37mPOST /analyze HTTP/1.1\u001b[0m\" 200 -\n",
      "127.0.0.1 - - [27/Nov/2018 13:02:49] \"\u001b[37mPOST /analyze HTTP/1.1\u001b[0m\" 200 -\n",
      "127.0.0.1 - - [27/Nov/2018 13:25:31] \"\u001b[37mPOST /analyze HTTP/1.1\u001b[0m\" 200 -\n",
      "127.0.0.1 - - [27/Nov/2018 13:26:06] \"\u001b[37mPOST /analyze HTTP/1.1\u001b[0m\" 200 -\n",
      "127.0.0.1 - - [27/Nov/2018 13:26:10] \"\u001b[37mPOST /analyze HTTP/1.1\u001b[0m\" 200 -\n",
      "127.0.0.1 - - [27/Nov/2018 13:28:03] \"\u001b[37mPOST /analyze HTTP/1.1\u001b[0m\" 200 -\n",
      "127.0.0.1 - - [27/Nov/2018 13:29:22] \"\u001b[37mPOST /analyze HTTP/1.1\u001b[0m\" 200 -\n",
      "127.0.0.1 - - [27/Nov/2018 13:32:25] \"\u001b[37mPOST /analyze HTTP/1.1\u001b[0m\" 200 -\n",
      "127.0.0.1 - - [27/Nov/2018 13:32:35] \"\u001b[37mPOST /analyze HTTP/1.1\u001b[0m\" 200 -\n"
     ]
    }
   ],
   "source": [
    "import json\n",
    "import re\n",
    "\n",
    "import requests\n",
    "from flask import Flask\n",
    "from flask import request\n",
    "\n",
    "from paper.config import ANALYZER_PATH, ANALYZER_PORT\n",
    "from paper.config import LANGDETECT_PORT, LANGDETECT_PATH, STEMMER_PORT, STEMMER_PATH\n",
    "from paper.analyze import normalize\n",
    "from paper.utils import post_request\n",
    "\n",
    "\n",
    "app = Flask(__name__)\n",
    "\n",
    "regex = re.compile('[!,/\\().%]')\n",
    "\n",
    "@app.route(ANALYZER_PATH, methods=['GET', 'POST'])\n",
    "def analyze():\n",
    "    \"\"\"\n",
    "    Analyzer provide stemm, tokenize and lang detect workflow\n",
    "    \n",
    "    Receive: list of lists of textes\n",
    "    Return: list of lists of stemmed tokens for each document + languages\n",
    "    \"\"\"\n",
    "    if request.method=='POST':\n",
    "        data = request.json\n",
    "        \n",
    "        textes = data[\"textes\"]\n",
    "        textes = [normalize(text) for text in textes]\n",
    "        \n",
    "        textes_json = {'textes' : textes}\n",
    "        r_lang = post_request(LANGDETECT_PORT, LANGDETECT_PATH, textes_json)\n",
    "        langs = r_lang['langs']\n",
    "        \n",
    "        stemm_json = {'textes' : textes, 'langs': langs}\n",
    "        r_stemmed = post_request(STEMMER_PORT, STEMMER_PATH, stemm_json)\n",
    "        stemmed_docs = r_stemmed['stemmed']\n",
    "\n",
    "        return json.dumps({'status':'ok',\n",
    "                           'langs': langs,\n",
    "                           'stemmed_docs': stemmed_docs})\n",
    "    else:\n",
    "        return \"post json {textes: 'your text here'}\"\n",
    "    \n",
    "\n",
    "if __name__ == \"__main__\":\n",
    "    app.run(host='0.0.0.0', port=ANALYZER_PORT)"
   ]
  }
 ],
 "metadata": {
  "kernelspec": {
   "display_name": "Python 3",
   "language": "python",
   "name": "python3"
  },
  "language_info": {
   "codemirror_mode": {
    "name": "ipython",
    "version": 3
   },
   "file_extension": ".py",
   "mimetype": "text/x-python",
   "name": "python",
   "nbconvert_exporter": "python",
   "pygments_lexer": "ipython3",
   "version": "3.6.3"
  },
  "varInspector": {
   "cols": {
    "lenName": 16,
    "lenType": 16,
    "lenVar": 40
   },
   "kernels_config": {
    "python": {
     "delete_cmd_postfix": "",
     "delete_cmd_prefix": "del ",
     "library": "var_list.py",
     "varRefreshCmd": "print(var_dic_list())"
    },
    "r": {
     "delete_cmd_postfix": ") ",
     "delete_cmd_prefix": "rm(",
     "library": "var_list.r",
     "varRefreshCmd": "cat(var_dic_list()) "
    }
   },
   "types_to_exclude": [
    "module",
    "function",
    "builtin_function_or_method",
    "instance",
    "_Feature"
   ],
   "window_display": false
  }
 },
 "nbformat": 4,
 "nbformat_minor": 2
}
