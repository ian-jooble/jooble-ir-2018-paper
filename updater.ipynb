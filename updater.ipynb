{
 "cells": [
  {
   "cell_type": "code",
   "execution_count": null,
   "metadata": {
    "ExecuteTime": {
     "start_time": "2018-11-25T10:38:24.823Z"
    }
   },
   "outputs": [
    {
     "name": "stdout",
     "output_type": "stream",
     "text": [
      " * Serving Flask app \"__main__\" (lazy loading)\n",
      " * Environment: production\n",
      "   WARNING: Do not use the development server in a production environment.\n",
      "   Use a production WSGI server instead.\n",
      " * Debug mode: off\n"
     ]
    },
    {
     "name": "stderr",
     "output_type": "stream",
     "text": [
      " * Running on http://0.0.0.0:13572/ (Press CTRL+C to quit)\n"
     ]
    },
    {
     "name": "stdout",
     "output_type": "stream",
     "text": [
      "dict_keys(['id', 'lang_text', 'lang_title', 'company_name', 'title', 'title_normalized', 'salary_val1', 'salary_val2', 'url', 'text'])\n"
     ]
    },
    {
     "name": "stderr",
     "output_type": "stream",
     "text": [
      "127.0.0.1 - - [25/Nov/2018 12:38:34] \"\u001b[37mPOST /update HTTP/1.1\u001b[0m\" 200 -\n"
     ]
    }
   ],
   "source": [
    "from flask import Flask\n",
    "from flask import request\n",
    "import json\n",
    "import requests\n",
    "\n",
    "from paper import index\n",
    "\n",
    "\n",
    "app = Flask(__name__)\n",
    "\n",
    "   \n",
    "@app.route(\"/update\", methods=['GET', 'POST'])\n",
    "def update():\n",
    "    \"\"\"\n",
    "    Receive: list of jsons (document representation)\n",
    "    Returns: ids of new documents in index\n",
    "    \"\"\"\n",
    "    if request.method == 'POST':\n",
    "        data = request.json\n",
    "        docs = data[\"docs\"]  # list of jsons?\n",
    "        print(docs[0].keys())\n",
    "        textes = [item['text'] for item in docs]\n",
    "        r_analyzing_query = requests.post('http://127.0.0.1:13571/analyze', json={'textes' : textes}).text\n",
    "        stemmed_docs = json.loads(r_analyzing_query)['stemmed_docs']\n",
    "        langs = json.loads(r_analyzing_query)['langs']\n",
    "   \n",
    "        ids_of_updated = index.update_index(docs, stemmed_docs)\n",
    "\n",
    "        return json.dumps({'status':'ok', \"ids\": ids_of_updated, 'hh': [docs, stemmed_docs]})\n",
    "    else:\n",
    "        return \"Make post to update\"\n",
    "    \n",
    "\n",
    "    \n",
    "if __name__ == \"__main__\":\n",
    "    app.run(host='0.0.0.0', port=13572)"
   ]
  },
  {
   "cell_type": "code",
   "execution_count": null,
   "metadata": {
    "collapsed": true
   },
   "outputs": [],
   "source": []
  }
 ],
 "metadata": {
  "kernelspec": {
   "display_name": "Python 3",
   "language": "python",
   "name": "python3"
  },
  "language_info": {
   "codemirror_mode": {
    "name": "ipython",
    "version": 3
   },
   "file_extension": ".py",
   "mimetype": "text/x-python",
   "name": "python",
   "nbconvert_exporter": "python",
   "pygments_lexer": "ipython3",
   "version": "3.6.5"
  },
  "varInspector": {
   "cols": {
    "lenName": 16,
    "lenType": 16,
    "lenVar": 40
   },
   "kernels_config": {
    "python": {
     "delete_cmd_postfix": "",
     "delete_cmd_prefix": "del ",
     "library": "var_list.py",
     "varRefreshCmd": "print(var_dic_list())"
    },
    "r": {
     "delete_cmd_postfix": ") ",
     "delete_cmd_prefix": "rm(",
     "library": "var_list.r",
     "varRefreshCmd": "cat(var_dic_list()) "
    }
   },
   "types_to_exclude": [
    "module",
    "function",
    "builtin_function_or_method",
    "instance",
    "_Feature"
   ],
   "window_display": false
  }
 },
 "nbformat": 4,
 "nbformat_minor": 2
}
