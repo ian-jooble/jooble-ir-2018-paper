{
 "cells": [
  {
   "cell_type": "code",
   "execution_count": null,
   "metadata": {
    "ExecuteTime": {
     "start_time": "2018-11-20T20:30:33.551Z"
    }
   },
   "outputs": [
    {
     "name": "stderr",
     "output_type": "stream",
     "text": [
      " * Running on http://0.0.0.0:13572/ (Press CTRL+C to quit)\n",
      "[2018-11-22 19:10:45,455] ERROR in app: Exception on /update [POST]\n",
      "Traceback (most recent call last):\n",
      "  File \"/usr/local/anaconda/lib/python3.6/site-packages/flask/app.py\", line 1982, in wsgi_app\n",
      "    response = self.full_dispatch_request()\n",
      "  File \"/usr/local/anaconda/lib/python3.6/site-packages/flask/app.py\", line 1614, in full_dispatch_request\n",
      "    rv = self.handle_user_exception(e)\n",
      "  File \"/usr/local/anaconda/lib/python3.6/site-packages/flask/app.py\", line 1517, in handle_user_exception\n",
      "    reraise(exc_type, exc_value, tb)\n",
      "  File \"/usr/local/anaconda/lib/python3.6/site-packages/flask/_compat.py\", line 33, in reraise\n",
      "    raise value\n",
      "  File \"/usr/local/anaconda/lib/python3.6/site-packages/flask/app.py\", line 1612, in full_dispatch_request\n",
      "    rv = self.dispatch_request()\n",
      "  File \"/usr/local/anaconda/lib/python3.6/site-packages/flask/app.py\", line 1598, in dispatch_request\n",
      "    return self.view_functions[rule.endpoint](**req.view_args)\n",
      "  File \"<ipython-input-1-05f6a60259f4>\", line 29, in update\n",
      "    ids_of_updated = index.update_index(docs, stemmed_docs)\n",
      "  File \"/mnt/storage2/Git/jooble-ir-2018-paper/paper/index.py\", line 35, in update_index\n",
      "    pipe.zadd(tok, tf, doc_id)\n",
      "  File \"/usr/local/anaconda/lib/python3.6/site-packages/redis/client.py\", line 2263, in zadd\n",
      "    for pair in iteritems(mapping):\n",
      "  File \"/usr/local/anaconda/lib/python3.6/site-packages/redis/_compat.py\", line 123, in iteritems\n",
      "    return iter(x.items())\n",
      "AttributeError: 'int' object has no attribute 'items'\n",
      "127.0.0.1 - - [22/Nov/2018 19:10:45] \"POST /update HTTP/1.1\" 500 -\n"
     ]
    }
   ],
   "source": [
    "from flask import Flask\n",
    "from flask import request\n",
    "import json\n",
    "import requests\n",
    "\n",
    "from paper import index\n",
    "from paper.utils import post_request\n",
    "from paper.config import *\n",
    "\n",
    "app = Flask(__name__)\n",
    "\n",
    "   \n",
    "@app.route(UPDATER_PATH, methods=['GET', 'POST'])\n",
    "def update():\n",
    "    \"\"\"\n",
    "    Receive: list of jsons (document representation)\n",
    "    Returns: ids of new documents in index\n",
    "    \"\"\"\n",
    "    if request.method == 'POST':\n",
    "        data = request.json\n",
    "        # docs are jsons!!!\n",
    "        docs = data[\"docs\"]\n",
    "        textes = [item['text'] for item in docs]\n",
    "        analyze_json = {'textes': textes}\n",
    "        r_analyzing_docs = post_request(ANALYZER_PORT, ANALYZER_PATH, analyze_json)\n",
    "        stemmed_docs = r_analyzing_docs['stemmed_docs']\n",
    "        langs = r_analyzing_docs['langs']\n",
    " \n",
    "        ids_of_updated = index.update_index(docs, stemmed_docs)\n",
    "        \n",
    "        return json.dumps({'status':'ok', \"ids\": ids_of_updated})\n",
    "    else:\n",
    "        return \"Make post to update\"\n",
    "    \n",
    "\n",
    "    \n",
    "if __name__ == \"__main__\":\n",
    "    app.run(host='0.0.0.0', port=UPDATER_PORT)"
   ]
  },
  {
   "cell_type": "code",
   "execution_count": null,
   "metadata": {
    "collapsed": true
   },
   "outputs": [],
   "source": []
  }
 ],
 "metadata": {
  "kernelspec": {
   "display_name": "Python 3",
   "language": "python",
   "name": "python3"
  },
  "language_info": {
   "codemirror_mode": {
    "name": "ipython",
    "version": 3
   },
   "file_extension": ".py",
   "mimetype": "text/x-python",
   "name": "python",
   "nbconvert_exporter": "python",
   "pygments_lexer": "ipython3",
   "version": "3.6.3"
  },
  "varInspector": {
   "cols": {
    "lenName": 16,
    "lenType": 16,
    "lenVar": 40
   },
   "kernels_config": {
    "python": {
     "delete_cmd_postfix": "",
     "delete_cmd_prefix": "del ",
     "library": "var_list.py",
     "varRefreshCmd": "print(var_dic_list())"
    },
    "r": {
     "delete_cmd_postfix": ") ",
     "delete_cmd_prefix": "rm(",
     "library": "var_list.r",
     "varRefreshCmd": "cat(var_dic_list()) "
    }
   },
   "types_to_exclude": [
    "module",
    "function",
    "builtin_function_or_method",
    "instance",
    "_Feature"
   ],
   "window_display": false
  }
 },
 "nbformat": 4,
 "nbformat_minor": 2
}
