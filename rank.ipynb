{
 "cells": [
  {
   "cell_type": "code",
   "execution_count": 1,
   "metadata": {
    "ExecuteTime": {
     "end_time": "2018-11-27T11:32:53.585237Z",
     "start_time": "2018-11-27T11:29:15.798703Z"
    }
   },
   "outputs": [
    {
     "name": "stdout",
     "output_type": "stream",
     "text": [
      " * Serving Flask app \"__main__\" (lazy loading)\n",
      " * Environment: production\n",
      "   WARNING: Do not use the development server in a production environment.\n",
      "   Use a production WSGI server instead.\n",
      " * Debug mode: off\n"
     ]
    },
    {
     "name": "stderr",
     "output_type": "stream",
     "text": [
      " * Running on http://0.0.0.0:13570/ (Press CTRL+C to quit)\n",
      "127.0.0.1 - - [27/Nov/2018 13:29:22] \"\u001b[37mPOST /rank HTTP/1.1\u001b[0m\" 200 -\n"
     ]
    },
    {
     "name": "stdout",
     "output_type": "stream",
     "text": [
      "using chache\n",
      "[('22', 19.397940008672034), ('27', 19.397940008672034)]\n",
      "['22', '27']\n"
     ]
    },
    {
     "name": "stderr",
     "output_type": "stream",
     "text": [
      "127.0.0.1 - - [27/Nov/2018 13:32:25] \"\u001b[37mPOST /rank HTTP/1.1\u001b[0m\" 200 -\n"
     ]
    },
    {
     "name": "stdout",
     "output_type": "stream",
     "text": [
      "do no use chahe\n",
      "[('22', 19.397940008672034), ('27', 19.397940008672034)]\n",
      "['22', '27']\n"
     ]
    },
    {
     "name": "stderr",
     "output_type": "stream",
     "text": [
      "127.0.0.1 - - [27/Nov/2018 13:32:35] \"\u001b[37mPOST /rank HTTP/1.1\u001b[0m\" 200 -\n"
     ]
    },
    {
     "name": "stdout",
     "output_type": "stream",
     "text": [
      "using chache\n",
      "[('22', 19.397940008672034), ('27', 19.397940008672034)]\n",
      "['22', '27']\n"
     ]
    }
   ],
   "source": [
    "import json\n",
    "\n",
    "from flask import Flask\n",
    "from flask import request\n",
    "\n",
    "from paper import index\n",
    "from paper.config import RANK_PATH, RANK_PORT\n",
    "\n",
    "\n",
    "app = Flask(__name__)\n",
    "\n",
    "\n",
    "@app.route(RANK_PATH, methods=['GET', 'POST'])\n",
    "def rank():\n",
    "    \"\"\"\n",
    "    Receive: list of meta, stemmed_query\n",
    "    Return: list of ranked documents\n",
    "    \n",
    "    Rank server seach in index for docs ids\n",
    "    \"\"\"\n",
    "    if request.method == 'POST':\n",
    "        data = request.json\n",
    "        stemmed_query = data[\"stemmed_query\"]\n",
    "        meta = data[\"meta\"]\n",
    "        \n",
    "        docs_scores = index.search(stemmed_query)\n",
    "        print(docs_scores)\n",
    "        docs_ids = [items[0] for items in docs_scores]\n",
    "        docs = index.get_docs(docs_ids)\n",
    "        print(docs_ids)\n",
    "        ranked = [doc['text'] for doc in docs]\n",
    "        return json.dumps({'status':'ok', 'ranked_ids': docs_ids})\n",
    "    else:\n",
    "        return \"post json {'meta': meta, 'stemmed_query': stemmed_query}\"\n",
    "\n",
    "if __name__ == \"__main__\":\n",
    "    app.run(host='0.0.0.0', port=RANK_PORT)"
   ]
  },
  {
   "cell_type": "code",
   "execution_count": null,
   "metadata": {
    "collapsed": true
   },
   "outputs": [],
   "source": []
  }
 ],
 "metadata": {
  "kernelspec": {
   "display_name": "Python 3",
   "language": "python",
   "name": "python3"
  },
  "language_info": {
   "codemirror_mode": {
    "name": "ipython",
    "version": 3
   },
   "file_extension": ".py",
   "mimetype": "text/x-python",
   "name": "python",
   "nbconvert_exporter": "python",
   "pygments_lexer": "ipython3",
   "version": "3.6.5"
  },
  "varInspector": {
   "cols": {
    "lenName": 16,
    "lenType": 16,
    "lenVar": 40
   },
   "kernels_config": {
    "python": {
     "delete_cmd_postfix": "",
     "delete_cmd_prefix": "del ",
     "library": "var_list.py",
     "varRefreshCmd": "print(var_dic_list())"
    },
    "r": {
     "delete_cmd_postfix": ") ",
     "delete_cmd_prefix": "rm(",
     "library": "var_list.r",
     "varRefreshCmd": "cat(var_dic_list()) "
    }
   },
   "types_to_exclude": [
    "module",
    "function",
    "builtin_function_or_method",
    "instance",
    "_Feature"
   ],
   "window_display": false
  }
 },
 "nbformat": 4,
 "nbformat_minor": 2
}
