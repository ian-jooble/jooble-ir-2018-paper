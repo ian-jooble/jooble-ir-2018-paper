{
 "cells": [
  {
   "cell_type": "code",
   "execution_count": null,
   "metadata": {
    "ExecuteTime": {
     "start_time": "2018-11-21T21:06:27.200Z"
    }
   },
   "outputs": [
    {
     "name": "stdout",
     "output_type": "stream",
     "text": [
      " * Serving Flask app \"__main__\" (lazy loading)\n",
      " * Environment: production\n",
      "   WARNING: Do not use the development server in a production environment.\n",
      "   Use a production WSGI server instead.\n",
      " * Debug mode: off\n"
     ]
    },
    {
     "name": "stderr",
     "output_type": "stream",
     "text": [
      " * Running on http://0.0.0.0:13570/ (Press CTRL+C to quit)\n",
      "127.0.0.1 - - [21/Nov/2018 23:06:31] \"\u001b[37mPOST /rank HTTP/1.1\u001b[0m\" 200 -\n"
     ]
    },
    {
     "name": "stdout",
     "output_type": "stream",
     "text": [
      "{'title_normalized': 'продавец консультант в магазин спортивного питания', 'lang_text': 'ru', 'title': 'Продавец-консультант в магазин спортивного питания', 'salary_val2': '', 'id': '-7863101350915933915', 'lang_title': 'ru', 'salary_val1': '400', 'url': 'https://minsk.jobs.tut.by/vacancy/19302396', 'text': 'В магазин спортивного питания требуется продавец-консультант с опытом работы.\\r\\nСобеседование после рассмотрения резюме.\\r\\nТребования:\\r\\n~Опыт в прямых продажах от 1 года;\\r\\n~Желание действительно помогать людям, давать консультации, искать лучшие решения;\\r\\n~Знания о спортпите, заинтересованность;\\r\\n~Грамотная речь, корректность, инициативность;\\r\\n~Уверенный пользователь ПК;\\r\\n\\r\\nОбязанности:\\r\\n~Консультация клиентов в магазине, по телефону и онлайн;\\r\\n~Продажа продуктов спортивного питания;\\r\\n~Выкладка товара;\\r\\n~Работа с кассой, программой учета товара и сайтом;\\r\\n~Поддержание чистоты и порядка в магазине;\\r\\n~Выполнение плана продаж;\\r\\n\\r\\nУсловия:\\r\\n~Заработная плата = оклад + бонус;\\r\\n~Оформление по ТК;\\r\\n~Большие скидки на нашу продукцию;\\r\\n~График 2/2. Продолжительность рабочего дня согласно режиму работы ТЦ;\\r\\n~Работа в комфортных условиях, ТРЦ \"Arena City\" .\\r\\n\\r\\n', 'company_name': 'Монте-Кристо'}\n"
     ]
    }
   ],
   "source": [
    "import json\n",
    "\n",
    "from flask import Flask\n",
    "from flask import request\n",
    "\n",
    "from paper import index\n",
    "from paper.config import *\n",
    "\n",
    "# update index with eval_textes.csv for testing\n",
    "# index.from_eval_texts()\n",
    "\n",
    "\n",
    "app = Flask(__name__)\n",
    "\n",
    "\n",
    "@app.route(RANK_PATH, methods=['GET', 'POST'])\n",
    "def rank():\n",
    "    \"\"\"\n",
    "    Receive: list of meta, stemmed_query\n",
    "    Return: list of ranked documents\n",
    "    \n",
    "    Rank server seach in index for docs ids\n",
    "    \"\"\"\n",
    "    if request.method == 'POST':\n",
    "        data = request.json\n",
    "        stemmed_query = data[\"stemmed_query\"]\n",
    "        meta = data[\"meta\"]\n",
    "        \n",
    "        docs_ids = index.search(stemmed_query)\n",
    "        docs = index.get_docs(docs_ids)\n",
    "        print(docs[0])\n",
    "        ranked = [doc['text'] for doc in docs]\n",
    "        return json.dumps({'status':'ok', 'ranked': ranked})\n",
    "    else:\n",
    "        return \"post json {'meta': meta, 'stemmed_query': stemmed_query}\"\n",
    "\n",
    "if __name__ == \"__main__\":\n",
    "    app.run(host='0.0.0.0', port=RANK_PORT)"
   ]
  },
  {
   "cell_type": "code",
   "execution_count": null,
   "metadata": {
    "collapsed": true
   },
   "outputs": [],
   "source": []
  }
 ],
 "metadata": {
  "kernelspec": {
   "display_name": "Python 3",
   "language": "python",
   "name": "python3"
  },
  "language_info": {
   "codemirror_mode": {
    "name": "ipython",
    "version": 3
   },
   "file_extension": ".py",
   "mimetype": "text/x-python",
   "name": "python",
   "nbconvert_exporter": "python",
   "pygments_lexer": "ipython3",
   "version": "3.6.5"
  },
  "varInspector": {
   "cols": {
    "lenName": 16,
    "lenType": 16,
    "lenVar": 40
   },
   "kernels_config": {
    "python": {
     "delete_cmd_postfix": "",
     "delete_cmd_prefix": "del ",
     "library": "var_list.py",
     "varRefreshCmd": "print(var_dic_list())"
    },
    "r": {
     "delete_cmd_postfix": ") ",
     "delete_cmd_prefix": "rm(",
     "library": "var_list.r",
     "varRefreshCmd": "cat(var_dic_list()) "
    }
   },
   "types_to_exclude": [
    "module",
    "function",
    "builtin_function_or_method",
    "instance",
    "_Feature"
   ],
   "window_display": false
  }
 },
 "nbformat": 4,
 "nbformat_minor": 2
}
