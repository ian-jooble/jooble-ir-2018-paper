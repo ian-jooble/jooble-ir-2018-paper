{
 "cells": [
  {
   "cell_type": "code",
   "execution_count": null,
   "metadata": {
    "ExecuteTime": {
     "start_time": "2018-11-22T09:26:24.520Z"
    }
   },
   "outputs": [
    {
     "name": "stdout",
     "output_type": "stream",
     "text": [
      " * Serving Flask app \"__main__\" (lazy loading)\n",
      " * Environment: production\n",
      "   WARNING: Do not use the development server in a production environment.\n",
      "   Use a production WSGI server instead.\n",
      " * Debug mode: off\n"
     ]
    },
    {
     "name": "stderr",
     "output_type": "stream",
     "text": [
      " * Running on http://0.0.0.0:13570/ (Press CTRL+C to quit)\n",
      "127.0.0.1 - - [22/Nov/2018 11:26:43] \"\u001b[37mPOST /rank HTTP/1.1\u001b[0m\" 200 -\n"
     ]
    },
    {
     "name": "stdout",
     "output_type": "stream",
     "text": [
      "{'title_normalized': 'главный бухгалтер', 'lang_text': 'ru', 'title': 'Главный бухгалтер', 'salary_val2': '', 'id': '-2573148200323682461', 'lang_title': 'ru', 'salary_val1': '', 'url': 'https://minsk.jobs.tut.by/vacancy/19302349', 'text': 'Обязанности:\\r\\n#Осуществление организации бухгалтерского учета хозяйственно-финансовой деятельности предприятия и контроль над экономным использованием материальных, трудовых и финансовых ресурсов, сохранностью собственности предприятия.\\r\\n#Формирование в соответствии с законодательством о бухгалтерском учете учетную политику, исходя из структуры и особенностей деятельности предприятия, необходимости обеспечения его финансовой устойчивости.\\r\\n#Возглавляет работу по: - подготовке и принятию рабочего плана счетов, форм первичных учетных документов, применяемых для оформления хозяйственных операций, по которым не предусмотрены типовые формы документов внутренней бухгалтерской отчетности; --контролю за проведением хозяйственных операций, соблюдением технологии обработки бухгалтерской информации и порядка документооборота.\\r\\n#Обеспечивает: - рациональную организацию бухгалтерского учета и отчетности в организации на основе применения современных технических средств и информационных технологий, прогрессивных форм и методов учета и контроля;- формирование и своевременное представление полной и достоверной бухгалтерской информации о деятельности организации, его имущественном положении, доходах и расходах;- разработку и осуществление мероприятий, направленных на укрепление финансовой дисциплины.\\r\\n#Организует:-учет имущества обязательств и хозяйственных операций, поступающих основных средств, товарно-материальных ценностей и денежных средств; - своевременное отражение на счетах бухгалтерского учета операций, связанных с их движением; Обеспечивает: -законность, своевременность и правильность оформления документов, составление экономически обоснованных отчетных калькуляций себестоимости работ (услуг), расчеты по заработной плате,правильное начисление и перечисление налогов и сборов, платежей в банковские учреждения.\\r\\n#Осуществляет контроль над:- соблюдением порядка оформления первичных и бухгалтерских документов, расчетов и платежных обязательств, расходованием фонда оплаты труда.\\r\\n#Участвует в проведении экономического анализа хозяйственно-финансовой деятельности предприятия по данным бухгалтерского учета и отчетности в целях выявления внутрихозяйственных резервов, устранения потерь и непроизводительных затрат.\\r\\n#Осуществляет: -взаимодействие с банками по вопросам размещения свободных финансовых средств на банковских депозитных вкладах. Ведет работу по обеспечению строгого соблюдения штатной, финансовой и кассовой дисциплины.\\r\\n#Участвует в разработке и внедрении рациональной плановой и учетной документации, прогрессивных форм и методов ведения бухгалтерского учета на основе применения современных средств вычислительной техники.\\r\\n#Обеспечивает составление баланса, отчетов о доходах расходах средств.\\r\\n\\r\\n', 'company_name': 'Республиканский Союз ТС и ЖПК'}\n"
     ]
    }
   ],
   "source": [
    "import json\n",
    "\n",
    "from flask import Flask\n",
    "from flask import request\n",
    "\n",
    "from paper import index\n",
    "from paper.config import *\n",
    "\n",
    "# update index with eval_textes.csv for testing\n",
    "# index.from_eval_texts()\n",
    "\n",
    "\n",
    "app = Flask(__name__)\n",
    "\n",
    "\n",
    "@app.route(RANK_PATH, methods=['GET', 'POST'])\n",
    "def rank():\n",
    "    \"\"\"\n",
    "    Receive: list of meta, stemmed_query\n",
    "    Return: list of ranked documents\n",
    "    \n",
    "    Rank server seach in index for docs ids\n",
    "    \"\"\"\n",
    "    if request.method == 'POST':\n",
    "        data = request.json\n",
    "        stemmed_query = data[\"stemmed_query\"]\n",
    "        meta = data[\"meta\"]\n",
    "        \n",
    "        docs_ids = index.search(stemmed_query)\n",
    "        docs = index.get_docs(docs_ids)\n",
    "        print(docs[0])\n",
    "        ranked = [doc['text'] for doc in docs]\n",
    "        return json.dumps({'status':'ok', 'ranked': ranked})\n",
    "    else:\n",
    "        return \"post json {'meta': meta, 'stemmed_query': stemmed_query}\"\n",
    "\n",
    "if __name__ == \"__main__\":\n",
    "    app.run(host='0.0.0.0', port=RANK_PORT)"
   ]
  },
  {
   "cell_type": "code",
   "execution_count": null,
   "metadata": {
    "collapsed": true
   },
   "outputs": [],
   "source": []
  }
 ],
 "metadata": {
  "kernelspec": {
   "display_name": "Python 3",
   "language": "python",
   "name": "python3"
  },
  "language_info": {
   "codemirror_mode": {
    "name": "ipython",
    "version": 3
   },
   "file_extension": ".py",
   "mimetype": "text/x-python",
   "name": "python",
   "nbconvert_exporter": "python",
   "pygments_lexer": "ipython3",
   "version": "3.6.5"
  },
  "varInspector": {
   "cols": {
    "lenName": 16,
    "lenType": 16,
    "lenVar": 40
   },
   "kernels_config": {
    "python": {
     "delete_cmd_postfix": "",
     "delete_cmd_prefix": "del ",
     "library": "var_list.py",
     "varRefreshCmd": "print(var_dic_list())"
    },
    "r": {
     "delete_cmd_postfix": ") ",
     "delete_cmd_prefix": "rm(",
     "library": "var_list.r",
     "varRefreshCmd": "cat(var_dic_list()) "
    }
   },
   "types_to_exclude": [
    "module",
    "function",
    "builtin_function_or_method",
    "instance",
    "_Feature"
   ],
   "window_display": false
  }
 },
 "nbformat": 4,
 "nbformat_minor": 2
}
