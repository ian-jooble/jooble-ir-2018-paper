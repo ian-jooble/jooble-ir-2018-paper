{
 "cells": [
  {
   "cell_type": "code",
   "execution_count": null,
   "metadata": {
    "ExecuteTime": {
     "start_time": "2018-11-25T23:03:20.600Z"
    }
   },
   "outputs": [
    {
     "name": "stdout",
     "output_type": "stream",
     "text": [
      " * Serving Flask app \"__main__\" (lazy loading)\n",
      " * Environment: production\n",
      "   WARNING: Do not use the development server in a production environment.\n",
      "   Use a production WSGI server instead.\n",
      " * Debug mode: off\n"
     ]
    },
    {
     "name": "stderr",
     "output_type": "stream",
     "text": [
      " * Running on http://0.0.0.0:13570/ (Press CTRL+C to quit)\n",
      "127.0.0.1 - - [26/Nov/2018 01:03:23] \"\u001b[37mPOST /rank HTTP/1.1\u001b[0m\" 200 -\n"
     ]
    },
    {
     "name": "stdout",
     "output_type": "stream",
     "text": [
      "[('10', 9.397940008672037), ('23', 9.397940008672037), ('90', 9.397940008672037), ('24', 13.881896937389754)]\n",
      "['10', '23', '90', '24']\n"
     ]
    },
    {
     "name": "stderr",
     "output_type": "stream",
     "text": [
      "127.0.0.1 - - [26/Nov/2018 01:04:01] \"\u001b[37mPOST /rank HTTP/1.1\u001b[0m\" 200 -\n"
     ]
    },
    {
     "name": "stdout",
     "output_type": "stream",
     "text": [
      "[('22', 9.698970004336017), ('27', 9.698970004336017)]\n",
      "['22', '27']\n"
     ]
    },
    {
     "name": "stderr",
     "output_type": "stream",
     "text": [
      "127.0.0.1 - - [26/Nov/2018 01:05:17] \"\u001b[37mPOST /rank HTTP/1.1\u001b[0m\" 200 -\n"
     ]
    },
    {
     "name": "stdout",
     "output_type": "stream",
     "text": [
      "[('56', 13.010299956639813)]\n",
      "['56']\n"
     ]
    }
   ],
   "source": [
    "import json\n",
    "\n",
    "from flask import Flask\n",
    "from flask import request\n",
    "\n",
    "from paper import index\n",
    "from paper.config import *\n",
    "\n",
    "\n",
    "app = Flask(__name__)\n",
    "\n",
    "\n",
    "@app.route(RANK_PATH, methods=['GET', 'POST'])\n",
    "def rank():\n",
    "    \"\"\"\n",
    "    Receive: list of meta, stemmed_query\n",
    "    Return: list of ranked documents\n",
    "    \n",
    "    Rank server seach in index for docs ids\n",
    "    \"\"\"\n",
    "    if request.method == 'POST':\n",
    "        data = request.json\n",
    "        stemmed_query = data[\"stemmed_query\"]\n",
    "        meta = data[\"meta\"]\n",
    "        \n",
    "        docs_ids = index.search(stemmed_query)[0]\n",
    "        print(docs_ids)\n",
    "        docs_ids = [items[0] for items in docs_ids]\n",
    "        docs = index.get_docs(docs_ids)\n",
    "        print(docs_ids)\n",
    "        ranked = [doc['text'] for doc in docs]\n",
    "#         print(stemmed_query)\n",
    "        return json.dumps({'status':'ok', 'ranked_ids': docs_ids})\n",
    "    else:\n",
    "        return \"post json {'meta': meta, 'stemmed_query': stemmed_query}\"\n",
    "\n",
    "if __name__ == \"__main__\":\n",
    "    app.run(host='0.0.0.0', port=RANK_PORT)"
   ]
  },
  {
   "cell_type": "code",
   "execution_count": null,
   "metadata": {
    "collapsed": true
   },
   "outputs": [],
   "source": []
  }
 ],
 "metadata": {
  "kernelspec": {
   "display_name": "Python 3",
   "language": "python",
   "name": "python3"
  },
  "varInspector": {
   "cols": {
    "lenName": 16,
    "lenType": 16,
    "lenVar": 40
   },
   "kernels_config": {
    "python": {
     "delete_cmd_postfix": "",
     "delete_cmd_prefix": "del ",
     "library": "var_list.py",
     "varRefreshCmd": "print(var_dic_list())"
    },
    "r": {
     "delete_cmd_postfix": ") ",
     "delete_cmd_prefix": "rm(",
     "library": "var_list.r",
     "varRefreshCmd": "cat(var_dic_list()) "
    }
   },
   "types_to_exclude": [
    "module",
    "function",
    "builtin_function_or_method",
    "instance",
    "_Feature"
   ],
   "window_display": false
  }
 },
 "nbformat": 4,
 "nbformat_minor": 2
}
