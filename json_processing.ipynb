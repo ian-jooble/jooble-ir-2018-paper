{
 "cells": [
  {
   "cell_type": "code",
   "execution_count": 1,
   "metadata": {
    "ExecuteTime": {
     "end_time": "2018-11-25T22:19:18.870655Z",
     "start_time": "2018-11-25T22:19:18.491195Z"
    }
   },
   "outputs": [],
   "source": [
    "import json\n",
    "import gzip\n",
    "import os\n",
    "from datetime import timedelta, date\n",
    "import pandas as pd"
   ]
  },
  {
   "cell_type": "code",
   "execution_count": 2,
   "metadata": {
    "ExecuteTime": {
     "end_time": "2018-11-25T22:19:19.793355Z",
     "start_time": "2018-11-25T22:19:19.778197Z"
    }
   },
   "outputs": [
    {
     "data": {
      "text/plain": [
       "'/Users/oyvsyo/proj/jooble/IR/jooble-ir-2018-paper/Data/by'"
      ]
     },
     "execution_count": 2,
     "metadata": {},
     "output_type": "execute_result"
    }
   ],
   "source": [
    "from paper.config import *\n",
    "\n",
    "by_dir"
   ]
  },
  {
   "cell_type": "code",
   "execution_count": 3,
   "metadata": {
    "ExecuteTime": {
     "end_time": "2018-11-25T22:19:22.590379Z",
     "start_time": "2018-11-25T22:19:22.354324Z"
    }
   },
   "outputs": [
    {
     "name": "stdout",
     "output_type": "stream",
     "text": [
      "707\n"
     ]
    }
   ],
   "source": [
    "list_json = []\n",
    "\n",
    "start_date = date(2017, 1, 1)\n",
    "# end_date = date(2017, 1, 30)\n",
    "end_date = date(2017, 1, 2)\n",
    "\n",
    "date_range = pd.date_range(start_date, end_date)\n",
    "    \n",
    "#looping through all days from 2017_01_1 to 2017_01_30 with step = 1 day\n",
    "for single_date in date_range:\n",
    "    date_ = single_date.strftime(\"%Y-%m-%d\")\n",
    "        \n",
    "    #!!!!CHANGE PATH!!!!!!\n",
    "    file_job = os.path.join(by_dir, 'by_job_{}.json.gz'.format(date_))\n",
    "    file_job_text = os.path.join(by_dir, 'by_job_text_{}.json.gz'.format(date_))\n",
    "\n",
    "    #reading two files simuntaneously\n",
    "    document_job, document_job_text = [],[]\n",
    "    with gzip.open(file_job, \"rb\") as f1, gzip.open(file_job_text, \"rb\") as f2: \n",
    "        for line1, line2 in zip(f1, f2):\n",
    "            vacation_job = json.loads(line1)\n",
    "            vacation_job_text = json.loads(line2)\n",
    "            document_job.append(vacation_job)\n",
    "            document_job_text.append(vacation_job_text)\n",
    "\n",
    "        #creating a list of dictionaries\n",
    "        for i in range(len(document_job)):\n",
    "            for j in range(len(document_job_text)):\n",
    "                if document_job[i]['id'] == document_job_text[j]['id_job']:\n",
    "                    data = {}\n",
    "                    data['id'] = document_job[i]['id']\n",
    "                    data['lang_text'] = document_job[i]['lang_text']\n",
    "                    data['lang_title'] = document_job[i]['lang_title']\n",
    "                    data['company_name'] = document_job[i]['company_name']\n",
    "                    data['title'] = document_job[i]['title']\n",
    "                    data['title_normalized'] = document_job[i]['title_normalized']\n",
    "                    data['salary_val1'] = document_job[i]['salary_val1']\n",
    "                    data['salary_val2'] = document_job[i]['salary_val2']\n",
    "                    data['company_name'] = document_job[i]['company_name']\n",
    "                    data['url'] = document_job[i]['url']\n",
    "                    \n",
    "                    data['text'] = document_job_text[j]['text']\n",
    "                    list_json.append(data)\n",
    "                    \n",
    "print(len(list_json))"
   ]
  },
  {
   "cell_type": "markdown",
   "metadata": {},
   "source": [
    "## Make Index update via `updater` service"
   ]
  },
  {
   "cell_type": "code",
   "execution_count": 10,
   "metadata": {
    "ExecuteTime": {
     "end_time": "2018-11-25T22:30:28.584135Z",
     "start_time": "2018-11-25T22:30:26.060368Z"
    },
    "scrolled": true
   },
   "outputs": [
    {
     "data": {
      "text/plain": [
       "{'ids': [0,\n",
       "  1,\n",
       "  2,\n",
       "  3,\n",
       "  4,\n",
       "  5,\n",
       "  6,\n",
       "  7,\n",
       "  8,\n",
       "  9,\n",
       "  10,\n",
       "  11,\n",
       "  12,\n",
       "  13,\n",
       "  14,\n",
       "  15,\n",
       "  16,\n",
       "  17,\n",
       "  18,\n",
       "  19,\n",
       "  20,\n",
       "  21,\n",
       "  22,\n",
       "  23,\n",
       "  24,\n",
       "  25,\n",
       "  26,\n",
       "  27,\n",
       "  28,\n",
       "  29,\n",
       "  30,\n",
       "  31,\n",
       "  32,\n",
       "  33,\n",
       "  34,\n",
       "  35,\n",
       "  36,\n",
       "  37,\n",
       "  38,\n",
       "  39,\n",
       "  40,\n",
       "  41,\n",
       "  42,\n",
       "  43,\n",
       "  44,\n",
       "  45,\n",
       "  46,\n",
       "  47,\n",
       "  48,\n",
       "  49,\n",
       "  50,\n",
       "  51,\n",
       "  52,\n",
       "  53,\n",
       "  54,\n",
       "  55,\n",
       "  56,\n",
       "  57,\n",
       "  58,\n",
       "  59,\n",
       "  60,\n",
       "  61,\n",
       "  62,\n",
       "  63,\n",
       "  64,\n",
       "  65,\n",
       "  66,\n",
       "  67,\n",
       "  68,\n",
       "  69,\n",
       "  70,\n",
       "  71,\n",
       "  72,\n",
       "  73,\n",
       "  74,\n",
       "  75,\n",
       "  76,\n",
       "  77,\n",
       "  78,\n",
       "  79,\n",
       "  80,\n",
       "  81,\n",
       "  82,\n",
       "  83,\n",
       "  84,\n",
       "  85,\n",
       "  86,\n",
       "  87,\n",
       "  88,\n",
       "  89,\n",
       "  90,\n",
       "  91,\n",
       "  92,\n",
       "  93,\n",
       "  94,\n",
       "  95,\n",
       "  96,\n",
       "  97,\n",
       "  98,\n",
       "  99],\n",
       " 'status': 'ok'}"
      ]
     },
     "execution_count": 10,
     "metadata": {},
     "output_type": "execute_result"
    }
   ],
   "source": [
    "from paper.utils import post_request as post\n",
    "from paper.index import delete_all\n",
    "\n",
    "delete_all()\n",
    "\n",
    "update_json = {'docs': list_json[100:200]}\n",
    "\n",
    "post(UPDATER_PORT, UPDATER_PATH, update_json)"
   ]
  },
  {
   "cell_type": "code",
   "execution_count": 6,
   "metadata": {
    "ExecuteTime": {
     "end_time": "2018-11-25T22:24:08.226292Z",
     "start_time": "2018-11-25T22:24:08.219243Z"
    }
   },
   "outputs": [
    {
     "data": {
      "text/plain": [
       "[{}, {}]"
      ]
     },
     "execution_count": 6,
     "metadata": {},
     "output_type": "execute_result"
    }
   ],
   "source": [
    "from paper.index import get_docs\n",
    "\n",
    "get_docs([1,2])"
   ]
  },
  {
   "cell_type": "code",
   "execution_count": null,
   "metadata": {},
   "outputs": [],
   "source": []
  }
 ],
 "metadata": {
  "kernelspec": {
   "display_name": "Python 3",
   "language": "python",
   "name": "python3"
  },
  "language_info": {
   "codemirror_mode": {
    "name": "ipython",
    "version": 3
   },
   "file_extension": ".py",
   "mimetype": "text/x-python",
   "name": "python",
   "nbconvert_exporter": "python",
   "pygments_lexer": "ipython3",
   "version": "3.6.5"
  },
  "varInspector": {
   "cols": {
    "lenName": 16,
    "lenType": 16,
    "lenVar": 40
   },
   "kernels_config": {
    "python": {
     "delete_cmd_postfix": "",
     "delete_cmd_prefix": "del ",
     "library": "var_list.py",
     "varRefreshCmd": "print(var_dic_list())"
    },
    "r": {
     "delete_cmd_postfix": ") ",
     "delete_cmd_prefix": "rm(",
     "library": "var_list.r",
     "varRefreshCmd": "cat(var_dic_list()) "
    }
   },
   "types_to_exclude": [
    "module",
    "function",
    "builtin_function_or_method",
    "instance",
    "_Feature"
   ],
   "window_display": false
  }
 },
 "nbformat": 4,
 "nbformat_minor": 2
}
