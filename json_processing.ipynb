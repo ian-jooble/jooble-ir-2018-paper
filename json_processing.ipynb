{
 "cells": [
  {
   "cell_type": "code",
   "execution_count": 1,
   "metadata": {
    "ExecuteTime": {
     "end_time": "2018-11-20T19:38:05.991586Z",
     "start_time": "2018-11-20T19:38:05.987005Z"
    },
    "collapsed": true
   },
   "outputs": [],
   "source": [
    "import json\n",
    "import gzip\n",
    "import os\n",
    "from datetime import timedelta, date\n",
    "import pandas as pd"
   ]
  },
  {
   "cell_type": "code",
   "execution_count": 2,
   "metadata": {
    "ExecuteTime": {
     "end_time": "2018-11-20T19:40:43.853096Z",
     "start_time": "2018-11-20T19:40:43.847647Z"
    }
   },
   "outputs": [
    {
     "data": {
      "text/plain": [
       "'/mnt/storage2/Git/jooble-ir-2018-paper/Data/by'"
      ]
     },
     "execution_count": 2,
     "metadata": {},
     "output_type": "execute_result"
    }
   ],
   "source": [
    "from paper.config import *\n",
    "\n",
    "by_dir"
   ]
  },
  {
   "cell_type": "code",
   "execution_count": 5,
   "metadata": {
    "ExecuteTime": {
     "end_time": "2018-11-20T20:25:52.033739Z",
     "start_time": "2018-11-20T20:25:51.873155Z"
    }
   },
   "outputs": [
    {
     "name": "stdout",
     "output_type": "stream",
     "text": [
      "707\n"
     ]
    }
   ],
   "source": [
    "list_json = []\n",
    "\n",
    "start_date = date(2017, 1, 1)\n",
    "# end_date = date(2017, 1, 30)\n",
    "end_date = date(2017, 1, 2)\n",
    "\n",
    "date_range = pd.date_range(start_date, end_date)\n",
    "    \n",
    "#looping through all days from 2017_01_1 to 2017_01_30 with step = 1 day\n",
    "for single_date in date_range:\n",
    "    date_ = single_date.strftime(\"%Y-%m-%d\")\n",
    "        \n",
    "    #!!!!CHANGE PATH!!!!!!\n",
    "    file_job = os.path.join(by_dir, 'by_job_{}.json.gz'.format(date_))\n",
    "    file_job_text = os.path.join(by_dir, 'by_job_text_{}.json.gz'.format(date_))\n",
    "\n",
    "    #reading two files simuntaneously\n",
    "    document_job, document_job_text = [],[]\n",
    "    with gzip.open(file_job, \"rb\") as f1, gzip.open(file_job_text, \"rb\") as f2: \n",
    "        for line1, line2 in zip(f1, f2):\n",
    "            vacation_job = json.loads(line1)\n",
    "            vacation_job_text = json.loads(line2)\n",
    "            document_job.append(vacation_job)\n",
    "            document_job_text.append(vacation_job_text)\n",
    "\n",
    "        #creating a list of dictionaries\n",
    "        for i in range(len(document_job)):\n",
    "            for j in range(len(document_job_text)):\n",
    "                if document_job[i]['id'] == document_job_text[j]['id_job']:\n",
    "                    data = {}\n",
    "                    data['id'] = document_job[i]['id']\n",
    "                    data['lang_text'] = document_job[i]['lang_text']\n",
    "                    data['lang_title'] = document_job[i]['lang_title']\n",
    "                    data['company_name'] = document_job[i]['company_name']\n",
    "                    data['title'] = document_job[i]['title']\n",
    "                    data['title_normalized'] = document_job[i]['title_normalized']\n",
    "                    data['salary_val1'] = document_job[i]['salary_val1']\n",
    "                    data['salary_val2'] = document_job[i]['salary_val2']\n",
    "                    data['company_name'] = document_job[i]['company_name']\n",
    "                    data['url'] = document_job[i]['url']\n",
    "                    \n",
    "                    data['text'] = document_job_text[j]['text']\n",
    "                    list_json.append(data)\n",
    "                    \n",
    "print(len(list_json))"
   ]
  },
  {
   "cell_type": "markdown",
   "metadata": {},
   "source": [
    "## Make Index update via `updater` service"
   ]
  },
  {
   "cell_type": "code",
   "execution_count": 8,
   "metadata": {
    "ExecuteTime": {
     "end_time": "2018-11-20T20:30:44.412579Z",
     "start_time": "2018-11-20T20:30:41.154179Z"
    }
   },
   "outputs": [
    {
     "ename": "JSONDecodeError",
     "evalue": "Expecting value: line 1 column 1 (char 0)",
     "output_type": "error",
     "traceback": [
      "\u001b[0;31m---------------------------------------------------------------------------\u001b[0m",
      "\u001b[0;31mJSONDecodeError\u001b[0m                           Traceback (most recent call last)",
      "\u001b[0;32m<ipython-input-8-89a65d118b64>\u001b[0m in \u001b[0;36m<module>\u001b[0;34m()\u001b[0m\n\u001b[1;32m      6\u001b[0m \u001b[0mupdate_json\u001b[0m \u001b[0;34m=\u001b[0m \u001b[0;34m{\u001b[0m\u001b[0;34m'docs'\u001b[0m\u001b[0;34m:\u001b[0m \u001b[0mlist_json\u001b[0m\u001b[0;34m}\u001b[0m\u001b[0;34m\u001b[0m\u001b[0m\n\u001b[1;32m      7\u001b[0m \u001b[0;34m\u001b[0m\u001b[0m\n\u001b[0;32m----> 8\u001b[0;31m \u001b[0mpost\u001b[0m\u001b[0;34m(\u001b[0m\u001b[0mUPDATER_PORT\u001b[0m\u001b[0;34m,\u001b[0m \u001b[0mUPDATER_PATH\u001b[0m\u001b[0;34m,\u001b[0m \u001b[0mupdate_json\u001b[0m\u001b[0;34m)\u001b[0m\u001b[0;34m\u001b[0m\u001b[0m\n\u001b[0m",
      "\u001b[0;32m/mnt/storage2/Git/jooble-ir-2018-paper/paper/utils.py\u001b[0m in \u001b[0;36mpost_request\u001b[0;34m(port, path, json)\u001b[0m\n\u001b[1;32m     14\u001b[0m     \"\"\"\n\u001b[1;32m     15\u001b[0m     return loads(requests.post(\"http://127.0.0.1:{}{}\".format(port, path),\n\u001b[0;32m---> 16\u001b[0;31m                                json=json).text)\n\u001b[0m\u001b[1;32m     17\u001b[0m \u001b[0;34m\u001b[0m\u001b[0m\n\u001b[1;32m     18\u001b[0m \u001b[0;34m\u001b[0m\u001b[0m\n",
      "\u001b[0;32m/usr/local/anaconda/lib/python3.6/json/__init__.py\u001b[0m in \u001b[0;36mloads\u001b[0;34m(s, encoding, cls, object_hook, parse_float, parse_int, parse_constant, object_pairs_hook, **kw)\u001b[0m\n\u001b[1;32m    352\u001b[0m             \u001b[0mparse_int\u001b[0m \u001b[0;32mis\u001b[0m \u001b[0;32mNone\u001b[0m \u001b[0;32mand\u001b[0m \u001b[0mparse_float\u001b[0m \u001b[0;32mis\u001b[0m \u001b[0;32mNone\u001b[0m \u001b[0;32mand\u001b[0m\u001b[0;34m\u001b[0m\u001b[0m\n\u001b[1;32m    353\u001b[0m             parse_constant is None and object_pairs_hook is None and not kw):\n\u001b[0;32m--> 354\u001b[0;31m         \u001b[0;32mreturn\u001b[0m \u001b[0m_default_decoder\u001b[0m\u001b[0;34m.\u001b[0m\u001b[0mdecode\u001b[0m\u001b[0;34m(\u001b[0m\u001b[0ms\u001b[0m\u001b[0;34m)\u001b[0m\u001b[0;34m\u001b[0m\u001b[0m\n\u001b[0m\u001b[1;32m    355\u001b[0m     \u001b[0;32mif\u001b[0m \u001b[0mcls\u001b[0m \u001b[0;32mis\u001b[0m \u001b[0;32mNone\u001b[0m\u001b[0;34m:\u001b[0m\u001b[0;34m\u001b[0m\u001b[0m\n\u001b[1;32m    356\u001b[0m         \u001b[0mcls\u001b[0m \u001b[0;34m=\u001b[0m \u001b[0mJSONDecoder\u001b[0m\u001b[0;34m\u001b[0m\u001b[0m\n",
      "\u001b[0;32m/usr/local/anaconda/lib/python3.6/json/decoder.py\u001b[0m in \u001b[0;36mdecode\u001b[0;34m(self, s, _w)\u001b[0m\n\u001b[1;32m    337\u001b[0m \u001b[0;34m\u001b[0m\u001b[0m\n\u001b[1;32m    338\u001b[0m         \"\"\"\n\u001b[0;32m--> 339\u001b[0;31m         \u001b[0mobj\u001b[0m\u001b[0;34m,\u001b[0m \u001b[0mend\u001b[0m \u001b[0;34m=\u001b[0m \u001b[0mself\u001b[0m\u001b[0;34m.\u001b[0m\u001b[0mraw_decode\u001b[0m\u001b[0;34m(\u001b[0m\u001b[0ms\u001b[0m\u001b[0;34m,\u001b[0m \u001b[0midx\u001b[0m\u001b[0;34m=\u001b[0m\u001b[0m_w\u001b[0m\u001b[0;34m(\u001b[0m\u001b[0ms\u001b[0m\u001b[0;34m,\u001b[0m \u001b[0;36m0\u001b[0m\u001b[0;34m)\u001b[0m\u001b[0;34m.\u001b[0m\u001b[0mend\u001b[0m\u001b[0;34m(\u001b[0m\u001b[0;34m)\u001b[0m\u001b[0;34m)\u001b[0m\u001b[0;34m\u001b[0m\u001b[0m\n\u001b[0m\u001b[1;32m    340\u001b[0m         \u001b[0mend\u001b[0m \u001b[0;34m=\u001b[0m \u001b[0m_w\u001b[0m\u001b[0;34m(\u001b[0m\u001b[0ms\u001b[0m\u001b[0;34m,\u001b[0m \u001b[0mend\u001b[0m\u001b[0;34m)\u001b[0m\u001b[0;34m.\u001b[0m\u001b[0mend\u001b[0m\u001b[0;34m(\u001b[0m\u001b[0;34m)\u001b[0m\u001b[0;34m\u001b[0m\u001b[0m\n\u001b[1;32m    341\u001b[0m         \u001b[0;32mif\u001b[0m \u001b[0mend\u001b[0m \u001b[0;34m!=\u001b[0m \u001b[0mlen\u001b[0m\u001b[0;34m(\u001b[0m\u001b[0ms\u001b[0m\u001b[0;34m)\u001b[0m\u001b[0;34m:\u001b[0m\u001b[0;34m\u001b[0m\u001b[0m\n",
      "\u001b[0;32m/usr/local/anaconda/lib/python3.6/json/decoder.py\u001b[0m in \u001b[0;36mraw_decode\u001b[0;34m(self, s, idx)\u001b[0m\n\u001b[1;32m    355\u001b[0m             \u001b[0mobj\u001b[0m\u001b[0;34m,\u001b[0m \u001b[0mend\u001b[0m \u001b[0;34m=\u001b[0m \u001b[0mself\u001b[0m\u001b[0;34m.\u001b[0m\u001b[0mscan_once\u001b[0m\u001b[0;34m(\u001b[0m\u001b[0ms\u001b[0m\u001b[0;34m,\u001b[0m \u001b[0midx\u001b[0m\u001b[0;34m)\u001b[0m\u001b[0;34m\u001b[0m\u001b[0m\n\u001b[1;32m    356\u001b[0m         \u001b[0;32mexcept\u001b[0m \u001b[0mStopIteration\u001b[0m \u001b[0;32mas\u001b[0m \u001b[0merr\u001b[0m\u001b[0;34m:\u001b[0m\u001b[0;34m\u001b[0m\u001b[0m\n\u001b[0;32m--> 357\u001b[0;31m             \u001b[0;32mraise\u001b[0m \u001b[0mJSONDecodeError\u001b[0m\u001b[0;34m(\u001b[0m\u001b[0;34m\"Expecting value\"\u001b[0m\u001b[0;34m,\u001b[0m \u001b[0ms\u001b[0m\u001b[0;34m,\u001b[0m \u001b[0merr\u001b[0m\u001b[0;34m.\u001b[0m\u001b[0mvalue\u001b[0m\u001b[0;34m)\u001b[0m \u001b[0;32mfrom\u001b[0m \u001b[0;32mNone\u001b[0m\u001b[0;34m\u001b[0m\u001b[0m\n\u001b[0m\u001b[1;32m    358\u001b[0m         \u001b[0;32mreturn\u001b[0m \u001b[0mobj\u001b[0m\u001b[0;34m,\u001b[0m \u001b[0mend\u001b[0m\u001b[0;34m\u001b[0m\u001b[0m\n",
      "\u001b[0;31mJSONDecodeError\u001b[0m: Expecting value: line 1 column 1 (char 0)"
     ]
    }
   ],
   "source": [
    "from paper.utils import post_request as post\n",
    "from paper.index import delete_all\n",
    "\n",
    "delete_all()\n",
    "\n",
    "update_json = {'docs': list_json}\n",
    "\n",
    "post(UPDATER_PORT, UPDATER_PATH, update_json)"
   ]
  },
  {
   "cell_type": "code",
   "execution_count": 4,
   "metadata": {},
   "outputs": [
    {
     "data": {
      "text/plain": [
       "[{'company_name': '',\n",
       "  'id': '-6951509096940958272',\n",
       "  'lang_text': 'ru',\n",
       "  'lang_title': 'ru',\n",
       "  'salary_val1': '',\n",
       "  'salary_val2': '',\n",
       "  'text': 'Срочно отрисовать не сложный ч/б логотип в вектор.',\n",
       "  'title': 'Дизайнер логотипов. Срочно отрисовать не сложный ч/б логотип в вектор (удаленно)',\n",
       "  'title_normalized': 'дизайнер логотипов срочно отрисовать не сложный ч б логотип в вектор удаленно',\n",
       "  'url': 'https://www.fl.ru/projects/3085095/srochno-otrisovat-ne-slojnyiy-ch_b-logotip-v-vektor.html?utm_source=joobleby&utm_medium=cpc&utm_campaign=jooble'},\n",
       " {'company_name': '',\n",
       "  'id': '8709047890904426760',\n",
       "  'lang_text': 'ru',\n",
       "  'lang_title': 'ru',\n",
       "  'salary_val1': '',\n",
       "  'salary_val2': '',\n",
       "  'text': 'курсовая работа по Экономика фирмы \\nдисциплина - Экономика фирмы \\nтема - вариант 2 в методичке \"тема работы\" \\nколичество страниц - 25-30 \\nоригинальность -60% (отчет с сайта антиплагиат.ру приложить) \\nшрифт - 14 pt \\nкрайний срок сдачи - 03.01.2017 до 22 по МСК \\nдополнительная информация - согласно методичке',\n",
       "  'title': '#СРОЧНО!курсовая работа по Экономика фирмы (удаленно)',\n",
       "  'title_normalized': 'срочно курсовая работа по экономика фирмы удаленно',\n",
       "  'url': 'https://www.fl.ru/projects/3085048/srochnokursovaya-rabota-po-ekonomika-firmyi.html?utm_source=joobleby&utm_medium=cpc&utm_campaign=jooble'}]"
      ]
     },
     "execution_count": 4,
     "metadata": {},
     "output_type": "execute_result"
    }
   ],
   "source": [
    "from paper.index import get_docs\n",
    "\n",
    "get_docs([1,2])"
   ]
  }
 ],
 "metadata": {
  "kernelspec": {
   "display_name": "Python 3",
   "language": "python",
   "name": "python3"
  },
  "language_info": {
   "codemirror_mode": {
    "name": "ipython",
    "version": 3
   },
   "file_extension": ".py",
   "mimetype": "text/x-python",
   "name": "python",
   "nbconvert_exporter": "python",
   "pygments_lexer": "ipython3",
   "version": "3.6.3"
  },
  "varInspector": {
   "cols": {
    "lenName": 16,
    "lenType": 16,
    "lenVar": 40
   },
   "kernels_config": {
    "python": {
     "delete_cmd_postfix": "",
     "delete_cmd_prefix": "del ",
     "library": "var_list.py",
     "varRefreshCmd": "print(var_dic_list())"
    },
    "r": {
     "delete_cmd_postfix": ") ",
     "delete_cmd_prefix": "rm(",
     "library": "var_list.r",
     "varRefreshCmd": "cat(var_dic_list()) "
    }
   },
   "types_to_exclude": [
    "module",
    "function",
    "builtin_function_or_method",
    "instance",
    "_Feature"
   ],
   "window_display": false
  }
 },
 "nbformat": 4,
 "nbformat_minor": 2
}
