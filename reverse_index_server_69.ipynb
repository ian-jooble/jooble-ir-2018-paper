{
 "cells": [
  {
   "cell_type": "code",
   "execution_count": null,
   "metadata": {},
   "outputs": [
    {
     "name": "stderr",
     "output_type": "stream",
     "text": [
      " * Running on http://0.0.0.0:13569/ (Press CTRL+C to quit)\n",
      "127.0.0.1 - - [01/Nov/2018 18:31:39] \"GET / HTTP/1.1\" 200 -\n",
      "127.0.0.1 - - [01/Nov/2018 18:31:42] \"POST /search_query HTTP/1.1\" 200 -\n"
     ]
    }
   ],
   "source": [
    "from flask import Flask\n",
    "from flask import request\n",
    "import json\n",
    "\n",
    "docsting = \"\"\"\n",
    "Give me json with search query and metadata of user like {'query': 'search query here', 'meta': 'metadata'}\n",
    "\"\"\"\n",
    "\n",
    "\n",
    "class Document():\n",
    "    def __init__(self, id, params):\n",
    "        self.id = id\n",
    "        self.params = params\n",
    "        \n",
    "    def serialize(self):\n",
    "        return self.__dict__\n",
    "\n",
    "        \n",
    "app = Flask(__name__)\n",
    "\n",
    "@app.route(\"/\")\n",
    "def hello():\n",
    "    return 'k'\n",
    "\n",
    "\n",
    "@app.route(\"/search_query\", methods=['GET', 'POST'])\n",
    "def revers_index():\n",
    "    if request.method == 'POST':\n",
    "        data = request.json\n",
    "        query = data[\"query\"]\n",
    "        meta = data[\"meta\"]\n",
    "        doc = Document(id=0, params='lalka')\n",
    "        return json.dumps({'status':'ok', 'docs': [doc.serialize()]})\n",
    "    else:\n",
    "        return docstring + \" by post methot to url /search_query\"\n",
    "\n",
    "if __name__ == \"__main__\":\n",
    "    app.run(host='0.0.0.0', port=13569)"
   ]
  },
  {
   "cell_type": "code",
   "execution_count": null,
   "metadata": {
    "collapsed": true
   },
   "outputs": [],
   "source": []
  }
 ],
 "metadata": {
  "kernelspec": {
   "display_name": "Python 3",
   "language": "python",
   "name": "python3"
  },
  "language_info": {
   "codemirror_mode": {
    "name": "ipython",
    "version": 3
   },
   "file_extension": ".py",
   "mimetype": "text/x-python",
   "name": "python",
   "nbconvert_exporter": "python",
   "pygments_lexer": "ipython3",
   "version": "3.6.3"
  }
 },
 "nbformat": 4,
 "nbformat_minor": 2
}
