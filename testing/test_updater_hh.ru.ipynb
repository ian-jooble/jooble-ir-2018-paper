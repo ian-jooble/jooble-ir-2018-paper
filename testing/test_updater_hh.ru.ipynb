{
 "cells": [
  {
   "cell_type": "code",
   "execution_count": 1,
   "metadata": {
    "ExecuteTime": {
     "end_time": "2018-11-15T14:42:03.214458Z",
     "start_time": "2018-11-15T14:42:03.210729Z"
    },
    "scrolled": true
   },
   "outputs": [],
   "source": [
    "import json\n",
    "import re"
   ]
  },
  {
   "cell_type": "code",
   "execution_count": 2,
   "metadata": {
    "ExecuteTime": {
     "end_time": "2018-11-15T14:42:05.428746Z",
     "start_time": "2018-11-15T14:42:05.177325Z"
    }
   },
   "outputs": [],
   "source": [
    "with open('../Data/hhru.json') as f:\n",
    "    hh = json.load(f)"
   ]
  },
  {
   "cell_type": "code",
   "execution_count": 12,
   "metadata": {
    "ExecuteTime": {
     "end_time": "2018-11-15T14:50:13.015497Z",
     "start_time": "2018-11-15T14:50:13.004462Z"
    }
   },
   "outputs": [
    {
     "data": {
      "text/plain": [
       "['Динамично развивающаяся группа компаний по предоставлению дополнительного образования ( повышение квалификации, профессиональная переподготовка,охрана труда, семинары, конференции и т.п.) Наши образовательные услуги - это требование законодательства, поэтому клиенты у нас есть всегда! Мы приглашаем энергичного, быстрого, позитивного сотрудника, который не любит менять работу, любит продажи, хочет работать в режиме непрерывного профессионального роста и достичь материального благополучия. Быть готовым работать с холодной базой в первые 2 месяца работы, при этом не испытывать дискомфорт в работе; Участвовать в переговорах и в заключении договоров с клиентами по всей России; Выполнять планы по продажам; Желание работать и зарабатывать - нам не интересен человек, готовый удовлетвориться окладом; В то же время мы предлагаем достойную заработную плату за достойные результаты Своевременная выплата заработной платы 2 раза в месяц Отличный возможности высокого дохода: в первый месяц оклад  В первый месяц плана по продажам нет, но при любой сделке выплачивает самый высокий % Современный офис в самом центре Москвы:  (5 минут пешком); Пн.- пт. 9-18 без переработок (пятница короткий день) Укороченный рабочий график, тем кто успешно выполняет планы по продажам; Обучение по услугам 2 дня - оплачиваемое Молодой, дружный позитивный коллектив Развитая корпоративная культура: сайкл,футбол Прозрачные и реальные возможности карьерного роста;   Собеседование проходит на конкурсной основе, все этапы в один день и уже на следующий день, кто успешно пройдет собеседование будет приглашен на работу. Если Вы уверены в себе и в своих желаниях зарабатывать большие деньги, имеете опыт и навыки продаж, а если их нет, то есть желание попробовать себя в этой сфере, обладаете такими качествами как открытость, дружелюбие и честность, если вы трудолюбивы, готовы много работать и достигать поставленных целей тогда мы ждем Вас в нашей команде',\n",
       " 'график работы 5/2 ( вс, пн-выходной) работа рядом с домом (На сегодня 33 офиса продаж) широкий пакет ДМС через 2 недели испытательного срока льготная мобильная связь (тариф Smart \"для своих\") обучение банковским продуктам и навыкам продаж дружный коллектив единомышленников достойная зарплата (30 000 gross фикс) и выполнимые прозрачные планы продаж неограниченные возможности заработка развитие в банковской сфере мотивирован на подвиги, не боишься трудностей и готов сворачивать горы открыт ко всему новому и легко усваиваешь информацию позитивен и смело заговариваешь с незнакомыми людьми']"
      ]
     },
     "execution_count": 12,
     "metadata": {},
     "output_type": "execute_result"
    }
   ],
   "source": [
    "hh[0].keys()\n",
    "textes = [\" \".join(item[\"text\"]) for item in hh]\n",
    "textes[:2]"
   ]
  },
  {
   "cell_type": "code",
   "execution_count": 9,
   "metadata": {
    "ExecuteTime": {
     "end_time": "2018-11-15T14:45:44.914057Z",
     "start_time": "2018-11-15T14:44:45.026320Z"
    },
    "scrolled": true
   },
   "outputs": [],
   "source": [
    "import requests\n",
    "\n",
    "r = requests.get('http://127.0.0.1:13572/update')\n",
    "r_update_hh = requests.post('http://127.0.0.1:13572/update',\n",
    "                            json={'textes': textes}).text\n",
    "        \n",
    "\n",
    "# print(json.loads(r_update_hh)['ids'])"
   ]
  },
  {
   "cell_type": "code",
   "execution_count": 10,
   "metadata": {
    "ExecuteTime": {
     "end_time": "2018-11-15T14:45:45.162399Z",
     "start_time": "2018-11-15T14:45:45.154888Z"
    }
   },
   "outputs": [
    {
     "name": "stdout",
     "output_type": "stream",
     "text": [
      "[]\n"
     ]
    }
   ],
   "source": [
    "print(json.loads(r_update_hh)['ids'])"
   ]
  },
  {
   "cell_type": "code",
   "execution_count": 14,
   "metadata": {
    "ExecuteTime": {
     "end_time": "2018-11-15T14:50:52.703634Z",
     "start_time": "2018-11-15T14:50:52.699800Z"
    }
   },
   "outputs": [],
   "source": [
    "from redis import Redis\n",
    "\n",
    "p = Redis().pipeline()"
   ]
  },
  {
   "cell_type": "code",
   "execution_count": 18,
   "metadata": {
    "ExecuteTime": {
     "end_time": "2018-11-15T14:52:46.578881Z",
     "start_time": "2018-11-15T14:52:46.455547Z"
    }
   },
   "outputs": [
    {
     "name": "stdout",
     "output_type": "stream",
     "text": [
      "16.BuildinganInvertedIndexattheDBMSLayerforFastFullTextSearch.pdf\r\n",
      "\u001b[34mData\u001b[m\u001b[m\r\n",
      "\u001b[34mIR\u001b[m\u001b[m\r\n",
      "Untitled Diagram (2).pdf\r\n",
      "Untitled Diagram.jpg\r\n",
      "architect.pdf\r\n"
     ]
    }
   ],
   "source": [
    "! ls ../../../"
   ]
  },
  {
   "cell_type": "code",
   "execution_count": 7,
   "metadata": {
    "ExecuteTime": {
     "end_time": "2018-11-15T14:43:49.671053Z",
     "start_time": "2018-11-15T14:43:49.665574Z"
    }
   },
   "outputs": [
    {
     "data": {
      "text/plain": [
       "'Make post to update'"
      ]
     },
     "execution_count": 7,
     "metadata": {},
     "output_type": "execute_result"
    }
   ],
   "source": [
    "r.text"
   ]
  },
  {
   "cell_type": "code",
   "execution_count": 30,
   "metadata": {
    "ExecuteTime": {
     "end_time": "2018-11-13T12:49:28.103496Z",
     "start_time": "2018-11-13T12:49:28.096966Z"
    }
   },
   "outputs": [
    {
     "data": {
      "text/plain": [
       "range(0, 2002)"
      ]
     },
     "execution_count": 30,
     "metadata": {},
     "output_type": "execute_result"
    }
   ],
   "source": [
    "new_ids = range(max_id, len(docs), 1)\n",
    "new_ids"
   ]
  },
  {
   "cell_type": "code",
   "execution_count": 9,
   "metadata": {
    "ExecuteTime": {
     "end_time": "2018-11-13T12:30:02.421529Z",
     "start_time": "2018-11-13T12:30:02.415906Z"
    }
   },
   "outputs": [
    {
     "data": {
      "text/plain": [
       "'sdfs sdcdsc'"
      ]
     },
     "execution_count": 9,
     "metadata": {},
     "output_type": "execute_result"
    }
   ],
   "source": [
    "\" \".join({\"sdfs\",\"sdcdsc\"})"
   ]
  },
  {
   "cell_type": "code",
   "execution_count": 11,
   "metadata": {
    "ExecuteTime": {
     "end_time": "2018-11-13T12:32:21.030738Z",
     "start_time": "2018-11-13T12:32:20.993702Z"
    }
   },
   "outputs": [
    {
     "data": {
      "text/plain": [
       "['- 5 готов основ меня конференц качеств достойн пн труд предлага удовлетвор не сделк групп так т люб компан а открыт вас результат динамичн коротк поставлен имеет россии; ден сам культура: все развива по этап сотрудник наш предоставлен быт современ футбол дискомфорт пятниц зарабатыва нам тем у образовательн корпоративн эт укорочен проход быстр участвова то команд же москвы: минут желан образован приглаша успешн дополнительн продаж переговор непрерывн человек дружн мы обучен 9-18 их навык договор как сво оп повышен кто уж офис энергичн с переработок холодн п продажам; молод за мног нас законодательств дня себ позитивн ; прозрачн высок месяц пройдет развит роста; конкурсн перв испытыва рабоч 2 сайкл своевремен план коллект будет достига ждем благополуч дружелюб выполня увер переподготовк и тогд ест заработн дохода: семинар приглаш при больш врем квалификац услуг деньг оклад рост хочет достич работа требован собеседован баз попробова выплачива трудолюбив отличн на центр клиент след профессиональн но облада материальн пт без раз окладом; в график выплат интерес есл реальн всегд сфер карьерн работ работе; оплачива пешк режим вы один нет честност заключен плат котор возможн цел поэт охра',\n",
       " 'заговарива сегодн 5 испытательн продукт гор выполним мобильн вс фикс пн-выходн прозрачн на срок достойн бо людьм развит дмс связ широк 2 смел незнаком зарплат \"для нов gross легк мотивирова сворачива продаж график в тариф не усваива план дом коллект своих\" трудност всем дружн сфер неограничен обучен льготн навык гот работ ко недел 30 подвиг через и банковск единомышленник 000 позитив возможн ряд офис заработк информац 33 с пакет Smart откр',\n",
       " 'кандидат личностн способству организован грамотн дат финансов взраст профессионал не сделк просмотр так праздник дом компан вас организац цен сам развива им анализ для наш предоставлен гарантирова ряд юридическ зарабатыва шанс психолог сопровожден корпоративн подбор от умен – тольк быстр настоя веден команд образован мест опыт сделок продаж показ переговор обь купли-продаж дружн убежда объект мы уровн ваш из квартир сво поддержк с рекламн нег наставничеств талант высок систем развит знат коллект будет средне-специальн реч определя выбор и заработн ниж недвижим зависет рынк эффективн рост профессионализм работа баз коммуникабельн нача на клиент профессиональн до без в главн завершен задач карьерн работ плат дел поэт потенциальн',\n",
       " 'environ platform process up critic immut interpret digit or quant present mobile; phone ethereum contribut base stand remot offer do: pleas rational ideat your brand on fulfil you’ll salari accomplish could concept solutions; owner more agil english featur in sketch will financ defin which excel after reloc opportun respons infrastructur clarif thinking; suggestions; our be cover offic usabl verbal berlin chang five argument ownership a prototyp challeng custom rid way A measur role inform mind web moscow performance-bas growth own us mobil commun approach lean impact; make explain short work; experi portfolio deliv ground; human product gain ask can that written smart-contract-bas chanc rapid adjustments; both one back what behind report opinion have submit design; analysis; unlimit experience; flaw save for made insight minut approach; at beauti skill strategi apps; industries; fund then of invest and the level advanc An world-class dramat founder test about is final interview ultim anyth to ux; research user-centr you bonuses; iter pension invit use competit wirefram analysi competitor page 30 play roadmap excit might blockchain hours; passion UI busi transpar If screen ani creat profession initi new must just think strong journey authenticity; an with vision would requir hour problem; CV not user UX talk servic design given key work diagram team good take collect through select help practic appli london; analyt flexibl As qual akropoli like data crypto career into flow from ha complet world brief letter corda; intern components; We join']"
      ]
     },
     "execution_count": 11,
     "metadata": {},
     "output_type": "execute_result"
    }
   ],
   "source": [
    "docs = [\" \".join(hh_item[\"text\"]) for hh_item in hh]\n",
    "docs[:4]"
   ]
  },
  {
   "cell_type": "code",
   "execution_count": null,
   "metadata": {},
   "outputs": [],
   "source": []
  }
 ],
 "metadata": {
  "kernelspec": {
   "display_name": "Python 3",
   "language": "python",
   "name": "python3"
  },
  "language_info": {
   "codemirror_mode": {
    "name": "ipython",
    "version": 3
   },
   "file_extension": ".py",
   "mimetype": "text/x-python",
   "name": "python",
   "nbconvert_exporter": "python",
   "pygments_lexer": "ipython3",
   "version": "3.6.5"
  },
  "varInspector": {
   "cols": {
    "lenName": 16,
    "lenType": 16,
    "lenVar": 40
   },
   "kernels_config": {
    "python": {
     "delete_cmd_postfix": "",
     "delete_cmd_prefix": "del ",
     "library": "var_list.py",
     "varRefreshCmd": "print(var_dic_list())"
    },
    "r": {
     "delete_cmd_postfix": ") ",
     "delete_cmd_prefix": "rm(",
     "library": "var_list.r",
     "varRefreshCmd": "cat(var_dic_list()) "
    }
   },
   "types_to_exclude": [
    "module",
    "function",
    "builtin_function_or_method",
    "instance",
    "_Feature"
   ],
   "window_display": false
  }
 },
 "nbformat": 4,
 "nbformat_minor": 2
}
