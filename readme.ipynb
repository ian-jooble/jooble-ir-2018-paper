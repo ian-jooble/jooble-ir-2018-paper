{
 "cells": [
  {
   "cell_type": "markdown",
   "metadata": {},
   "source": [
    "# PAPER search engine\n",
    "\n",
    "### Table of contents:\n",
    "- Services description\n",
    "- Index realization\n",
    "- Testing\n",
    "- TODO\n",
    "\n",
    "## Services:\n",
    "\n",
    "Services filenames ends with last 2 digits of port number to call it (search_68 - port 13568)\n",
    "> Ports will be later in config file\n",
    "\n",
    "### search_68\n",
    "Search server provide **UI hosting** and **all search workflow**\n",
    "\n",
    "Receive: ajax post request from user interface with meta and search\n",
    "Return: ranked docs\n",
    "Make call to:\n",
    "- Analyzer service (analyzer_71) with user search query and receive stemmed tokenized query and lang\n",
    "- Rank service (rank_70) with preprocessed query\n",
    "\n",
    "### analyzer_71\n",
    "Analyzer provide stemm, tokenize and lang detect workflow\n",
    "    \n",
    "Receive: list of lists of textes\n",
    "Return: list of lists of stemmed tokens for each document & list of languages codes\n",
    "Make call to:\n",
    "- Language detection service (lang_detection_67) with query\n",
    "- Stemmer service (stemmer_66) with query\n",
    "\n",
    "### stemmer_66\n",
    "Provide stemming and tokenization\n",
    "\n",
    "Receive: text document and language\n",
    "Return: list of stemmed tokens for document\n",
    "\n",
    "### lang_detection_67\n",
    "Make language detection of texts list\n",
    "\n",
    "Receive: list of strs\n",
    "Returns: list of detected languages (strs code like de, en etc.)\n",
    "\n",
    "### rank_70\n",
    "Make search in index and rank documents\n",
    "\n",
    "Receive: list of meta, stemmed_query\n",
    "Return: list of ranked documents\n",
    "\n",
    "### updater_72\n",
    "Make index update\n",
    "\n",
    "Receive: textes - list of strs\n",
    "Return: list of ids of updated documents\n",
    "\n",
    "Make call to:\n",
    "- Analyzer service with textes\n",
    "\n",
    "\n",
    "## Index\n",
    "Index is a Redis database\n",
    "\n",
    "There a module paper.index where basic functions for working with index are provided:\n",
    "\n",
    "Function | Arguments | Description\n",
    "------------ | ------------- | --------\n",
    "`update_index(docs, stemmed)` | **docs** - list or array of strs <br> **stemmed** - list of lists with token strs | Make indexing of textes (inverted and forward)<br>Return: list of ids of updated docs\n",
    "`from_eval_texts(path='../../Data/eval_texts.csv')`| **path** - path to eval_textes.csv | Make update from eval textes<br>Return: list of ids of updated docs\n",
    "`search(tokens)` | **tokens** - stemmed tokens for search  | Make search (boolean AND - intersect of sets)<br>Return: returns set of doc_ids strs\n",
    "`get_docs(ids, is_str=False)` | **ids** - int ids of docs if **is_str=False**,<br>in other case: **ids** - strs of ids like 'doc:id' | Get docs by their Returns: list of strs (documents textes)\n",
    "\n",
    "\n",
    "# TODO\n",
    "- Make doc class\n",
    "- Snippets api\n",
    "- Make "
   ]
  }
 ],
 "metadata": {
  "kernelspec": {
   "display_name": "Python 3",
   "language": "python",
   "name": "python3"
  },
  "language_info": {
   "codemirror_mode": {
    "name": "ipython",
    "version": 3
   },
   "file_extension": ".py",
   "mimetype": "text/x-python",
   "name": "python",
   "nbconvert_exporter": "python",
   "pygments_lexer": "ipython3",
   "version": "3.6.5"
  },
  "varInspector": {
   "cols": {
    "lenName": 16,
    "lenType": 16,
    "lenVar": 40
   },
   "kernels_config": {
    "python": {
     "delete_cmd_postfix": "",
     "delete_cmd_prefix": "del ",
     "library": "var_list.py",
     "varRefreshCmd": "print(var_dic_list())"
    },
    "r": {
     "delete_cmd_postfix": ") ",
     "delete_cmd_prefix": "rm(",
     "library": "var_list.r",
     "varRefreshCmd": "cat(var_dic_list()) "
    }
   },
   "types_to_exclude": [
    "module",
    "function",
    "builtin_function_or_method",
    "instance",
    "_Feature"
   ],
   "window_display": false
  }
 },
 "nbformat": 4,
 "nbformat_minor": 2
}
