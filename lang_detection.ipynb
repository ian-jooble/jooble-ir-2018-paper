{
 "cells": [
  {
   "cell_type": "code",
   "execution_count": null,
   "metadata": {
    "ExecuteTime": {
     "start_time": "2018-11-21T20:34:13.903Z"
    }
   },
   "outputs": [
    {
     "name": "stderr",
     "output_type": "stream",
     "text": [
      " * Running on http://0.0.0.0:13567/ (Press CTRL+C to quit)\n",
      "127.0.0.1 - - [22/Nov/2018 17:05:11] \"POST /lang_detect HTTP/1.1\" 200 -\n",
      "127.0.0.1 - - [22/Nov/2018 17:06:40] \"POST /lang_detect HTTP/1.1\" 200 -\n",
      "127.0.0.1 - - [22/Nov/2018 17:13:06] \"POST /lang_detect HTTP/1.1\" 200 -\n",
      "127.0.0.1 - - [22/Nov/2018 17:13:51] \"POST /lang_detect HTTP/1.1\" 200 -\n",
      "127.0.0.1 - - [22/Nov/2018 17:15:18] \"POST /lang_detect HTTP/1.1\" 200 -\n",
      "127.0.0.1 - - [22/Nov/2018 17:15:52] \"POST /lang_detect HTTP/1.1\" 200 -\n",
      "127.0.0.1 - - [22/Nov/2018 17:20:01] \"POST /lang_detect HTTP/1.1\" 200 -\n",
      "127.0.0.1 - - [22/Nov/2018 17:21:45] \"POST /lang_detect HTTP/1.1\" 200 -\n",
      "127.0.0.1 - - [22/Nov/2018 17:21:56] \"POST /lang_detect HTTP/1.1\" 200 -\n",
      "127.0.0.1 - - [22/Nov/2018 17:22:32] \"POST /lang_detect HTTP/1.1\" 200 -\n",
      "127.0.0.1 - - [22/Nov/2018 17:24:09] \"POST /lang_detect HTTP/1.1\" 200 -\n",
      "127.0.0.1 - - [22/Nov/2018 17:24:10] \"POST /lang_detect HTTP/1.1\" 200 -\n",
      "127.0.0.1 - - [22/Nov/2018 17:24:23] \"POST /lang_detect HTTP/1.1\" 200 -\n",
      "127.0.0.1 - - [22/Nov/2018 17:24:47] \"POST /lang_detect HTTP/1.1\" 200 -\n",
      "127.0.0.1 - - [22/Nov/2018 17:25:33] \"POST /lang_detect HTTP/1.1\" 200 -\n",
      "127.0.0.1 - - [22/Nov/2018 17:25:36] \"POST /lang_detect HTTP/1.1\" 200 -\n",
      "127.0.0.1 - - [22/Nov/2018 17:25:52] \"POST /lang_detect HTTP/1.1\" 200 -\n",
      "127.0.0.1 - - [22/Nov/2018 17:30:19] \"POST /lang_detect HTTP/1.1\" 200 -\n",
      "127.0.0.1 - - [22/Nov/2018 17:30:28] \"POST /lang_detect HTTP/1.1\" 200 -\n",
      "127.0.0.1 - - [22/Nov/2018 17:30:28] \"POST /lang_detect HTTP/1.1\" 200 -\n",
      "127.0.0.1 - - [22/Nov/2018 17:30:42] \"POST /lang_detect HTTP/1.1\" 200 -\n",
      "127.0.0.1 - - [22/Nov/2018 17:30:49] \"POST /lang_detect HTTP/1.1\" 200 -\n",
      "127.0.0.1 - - [22/Nov/2018 17:33:34] \"POST /lang_detect HTTP/1.1\" 200 -\n",
      "127.0.0.1 - - [22/Nov/2018 17:34:54] \"POST /lang_detect HTTP/1.1\" 200 -\n"
     ]
    }
   ],
   "source": [
    "import json\n",
    "\n",
    "from flask import Flask\n",
    "from flask import request\n",
    "from langdetect import detect\n",
    "\n",
    "from paper.config import *\n",
    "\n",
    "\n",
    "app = Flask(__name__)\n",
    "\n",
    "\n",
    "@app.route(LANGDETECT_PATH, methods=['GET', 'POST'])\n",
    "def lang_detect():\n",
    "    \"\"\"\n",
    "    Receive: list of strs\n",
    "    Returns: list of detected languages (strs code like uk, en etc.)\n",
    "    \"\"\"\n",
    "    if request.method=='POST':\n",
    "        data = request.json\n",
    "        textes = data[\"textes\"]\n",
    "        langs = []\n",
    "        for text in textes:\n",
    "            try:\n",
    "                langs.append(detect(text))\n",
    "            except:\n",
    "                langs.append('None')\n",
    "        # may use probabilities of language for logging if it's a query\n",
    "\n",
    "        return json.dumps({'status':'ok',\n",
    "                           'langs': langs})\n",
    "    else:\n",
    "        return \"make post {'textes': list of strs}\"\n",
    "    \n",
    "\n",
    "if __name__ == \"__main__\":\n",
    "    app.run(host='0.0.0.0', port=LANGDETECT_PORT)"
   ]
  }
 ],
 "metadata": {
  "kernelspec": {
   "display_name": "Python 3",
   "language": "python",
   "name": "python3"
  },
  "language_info": {
   "codemirror_mode": {
    "name": "ipython",
    "version": 3
   },
   "file_extension": ".py",
   "mimetype": "text/x-python",
   "name": "python",
   "nbconvert_exporter": "python",
   "pygments_lexer": "ipython3",
   "version": "3.6.3"
  },
  "varInspector": {
   "cols": {
    "lenName": 16,
    "lenType": 16,
    "lenVar": 40
   },
   "kernels_config": {
    "python": {
     "delete_cmd_postfix": "",
     "delete_cmd_prefix": "del ",
     "library": "var_list.py",
     "varRefreshCmd": "print(var_dic_list())"
    },
    "r": {
     "delete_cmd_postfix": ") ",
     "delete_cmd_prefix": "rm(",
     "library": "var_list.r",
     "varRefreshCmd": "cat(var_dic_list()) "
    }
   },
   "types_to_exclude": [
    "module",
    "function",
    "builtin_function_or_method",
    "instance",
    "_Feature"
   ],
   "window_display": false
  }
 },
 "nbformat": 4,
 "nbformat_minor": 2
}
